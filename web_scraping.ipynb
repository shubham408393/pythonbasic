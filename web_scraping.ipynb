{
 "cells": [
  {
   "cell_type": "code",
   "execution_count": null,
   "id": "45dd90c0",
   "metadata": {},
   "outputs": [],
   "source": [
    "# web scraping is a techniquefor extracting information from the internet automatically\n",
    "# using our script that simulates human web suffering\n",
    "# web scarping helps us ectract large volumnes from diffrent websites"
   ]
  },
  {
   "cell_type": "code",
   "execution_count": null,
   "id": "d18845c9",
   "metadata": {},
   "outputs": [],
   "source": [
    "# beautifulsoup\n",
    "# selenuim\n",
    "# scrapy"
   ]
  },
  {
   "cell_type": "markdown",
   "id": "de98af22",
   "metadata": {},
   "source": [
    "# steps to do web scraping"
   ]
  },
  {
   "cell_type": "code",
   "execution_count": null,
   "id": "d18fe81c",
   "metadata": {},
   "outputs": [],
   "source": [
    "# 1. Find the url that you want to scrape\n",
    "# 2. send an http request to that url and get html as response\n",
    "# 3. parsing the html content\n",
    "# 4. Inspect the web page and find data thet we want to extract\n",
    "# 5. extract required data and store it in required formmat"
   ]
  },
  {
   "cell_type": "code",
   "execution_count": null,
   "id": "b2972088",
   "metadata": {},
   "outputs": [],
   "source": [
    "<html>\n",
    "<head> and <title>\n",
    "<body>\n",
    "<h1>,<h2>,....<h5>\n",
    "<p>\n",
    "<a>\n",
    "<img>\n",
    "<table>"
   ]
  },
  {
   "cell_type": "code",
   "execution_count": 1,
   "id": "35f42109",
   "metadata": {},
   "outputs": [],
   "source": [
    "html='<!doctype html>\\\n",
    "<html>\\\n",
    "<head>\\\n",
    "<title> web page 12 </title>\\\n",
    "</head>\\\n",
    "<body>\\\n",
    "<h1> Let\\'s do Web Scraping </h1>\\\n",
    "<p class=\"abc\" id=\"first_para\">\\\n",
    "let\\'s Learn \\\n",
    "<b>web scraping</b>\\\n",
    "</p>\\\n",
    "<p class=\"abc\" id=\"second_para\">\\\n",
    "Let\\'s look in to scraping using Beautifulsoup from <a href=\"https://beautiful-soup-4.readthedocs.io/en/latest/\">here</a>\\\n",
    "</p>\\\n",
    "</body>\\\n",
    "</html>'"
   ]
  },
  {
   "cell_type": "code",
   "execution_count": 3,
   "id": "ea859249",
   "metadata": {},
   "outputs": [
    {
     "name": "stdout",
     "output_type": "stream",
     "text": [
      "Collecting bs4\n",
      "  Obtaining dependency information for bs4 from https://files.pythonhosted.org/packages/51/bb/bf7aab772a159614954d84aa832c129624ba6c32faa559dfb200a534e50b/bs4-0.0.2-py2.py3-none-any.whl.metadata\n",
      "  Downloading bs4-0.0.2-py2.py3-none-any.whl.metadata (411 bytes)\n",
      "Requirement already satisfied: beautifulsoup4 in c:\\users\\kapil\\anaconda3\\lib\\site-packages (from bs4) (4.12.2)\n",
      "Requirement already satisfied: soupsieve>1.2 in c:\\users\\kapil\\anaconda3\\lib\\site-packages (from beautifulsoup4->bs4) (2.4)\n",
      "Downloading bs4-0.0.2-py2.py3-none-any.whl (1.2 kB)\n",
      "Installing collected packages: bs4\n",
      "Successfully installed bs4-0.0.2\n",
      "Note: you may need to restart the kernel to use updated packages.\n"
     ]
    }
   ],
   "source": [
    "pip install bs4"
   ]
  },
  {
   "cell_type": "code",
   "execution_count": 3,
   "id": "81e01da7",
   "metadata": {},
   "outputs": [],
   "source": [
    "from bs4 import BeautifulSoup"
   ]
  },
  {
   "cell_type": "code",
   "execution_count": 4,
   "id": "c01b3ce8",
   "metadata": {},
   "outputs": [],
   "source": [
    "data=BeautifulSoup(html,'html.parser')"
   ]
  },
  {
   "cell_type": "code",
   "execution_count": 5,
   "id": "dee90d0b",
   "metadata": {},
   "outputs": [
    {
     "data": {
      "text/plain": [
       "<!DOCTYPE html>\n",
       "<html><head><title> web page 12 </title></head><body><h1> Let's do Web Scraping </h1><p class=\"abc\" id=\"first_para\">let's Learn <b>web scraping</b></p><p class=\"abc\" id=\"second_para\">Let's look in to scraping using Beautifulsoup from <a href=\"https://beautiful-soup-4.readthedocs.io/en/latest/\">here</a></p></body></html>"
      ]
     },
     "execution_count": 5,
     "metadata": {},
     "output_type": "execute_result"
    }
   ],
   "source": [
    "data"
   ]
  },
  {
   "cell_type": "code",
   "execution_count": 25,
   "id": "969ee1f2",
   "metadata": {},
   "outputs": [
    {
     "data": {
      "text/plain": [
       "bs4.BeautifulSoup"
      ]
     },
     "execution_count": 25,
     "metadata": {},
     "output_type": "execute_result"
    }
   ],
   "source": [
    "type(data)"
   ]
  },
  {
   "cell_type": "code",
   "execution_count": 6,
   "id": "753485bf",
   "metadata": {},
   "outputs": [
    {
     "name": "stdout",
     "output_type": "stream",
     "text": [
      "<!DOCTYPE html>\n",
      "<html>\n",
      " <head>\n",
      "  <title>\n",
      "   web page 12\n",
      "  </title>\n",
      " </head>\n",
      " <body>\n",
      "  <h1>\n",
      "   Let's do Web Scraping\n",
      "  </h1>\n",
      "  <p class=\"abc\" id=\"first_para\">\n",
      "   let's Learn\n",
      "   <b>\n",
      "    web scraping\n",
      "   </b>\n",
      "  </p>\n",
      "  <p class=\"abc\" id=\"second_para\">\n",
      "   Let's look in to scraping using Beautifulsoup from\n",
      "   <a href=\"https://beautiful-soup-4.readthedocs.io/en/latest/\">\n",
      "    here\n",
      "   </a>\n",
      "  </p>\n",
      " </body>\n",
      "</html>\n",
      "\n"
     ]
    }
   ],
   "source": [
    "print(data.prettify())"
   ]
  },
  {
   "cell_type": "code",
   "execution_count": 7,
   "id": "8e43796f",
   "metadata": {},
   "outputs": [
    {
     "data": {
      "text/plain": [
       "<title> web page 12 </title>"
      ]
     },
     "execution_count": 7,
     "metadata": {},
     "output_type": "execute_result"
    }
   ],
   "source": [
    "data.title"
   ]
  },
  {
   "cell_type": "code",
   "execution_count": 15,
   "id": "d6afca85",
   "metadata": {},
   "outputs": [
    {
     "data": {
      "text/plain": [
       "<head><title> New web page </title></head>"
      ]
     },
     "execution_count": 15,
     "metadata": {},
     "output_type": "execute_result"
    }
   ],
   "source": [
    "data.head"
   ]
  },
  {
   "cell_type": "code",
   "execution_count": 16,
   "id": "50ac8a41",
   "metadata": {},
   "outputs": [
    {
     "data": {
      "text/plain": [
       "<h1> Let's do Web Scraping </h1>"
      ]
     },
     "execution_count": 16,
     "metadata": {},
     "output_type": "execute_result"
    }
   ],
   "source": [
    "data.h1"
   ]
  },
  {
   "cell_type": "code",
   "execution_count": 17,
   "id": "2943f47e",
   "metadata": {},
   "outputs": [
    {
     "data": {
      "text/plain": [
       "<p class=\"abc\" id=\"first_para\">let's Learn <b>web scraping</b></p>"
      ]
     },
     "execution_count": 17,
     "metadata": {},
     "output_type": "execute_result"
    }
   ],
   "source": [
    "data.p"
   ]
  },
  {
   "cell_type": "code",
   "execution_count": 27,
   "id": "ebdc1de8",
   "metadata": {},
   "outputs": [
    {
     "name": "stdout",
     "output_type": "stream",
     "text": [
      "<title> web page 12 </title>\n",
      "title\n",
      " web page 12 \n"
     ]
    }
   ],
   "source": [
    "print(data.title)\n",
    "print(data.title.name)\n",
    "print(data.title.string)"
   ]
  },
  {
   "cell_type": "code",
   "execution_count": 28,
   "id": "2cb12015",
   "metadata": {},
   "outputs": [
    {
     "data": {
      "text/plain": [
       "{'class': ['abc'], 'id': 'first_para'}"
      ]
     },
     "execution_count": 28,
     "metadata": {},
     "output_type": "execute_result"
    }
   ],
   "source": [
    "data.p.attrs"
   ]
  },
  {
   "cell_type": "code",
   "execution_count": 29,
   "id": "9eb6b5d2",
   "metadata": {},
   "outputs": [
    {
     "data": {
      "text/plain": [
       "'first_para'"
      ]
     },
     "execution_count": 29,
     "metadata": {},
     "output_type": "execute_result"
    }
   ],
   "source": [
    "data.p['id']"
   ]
  },
  {
   "cell_type": "code",
   "execution_count": 30,
   "id": "9f8c2930",
   "metadata": {},
   "outputs": [
    {
     "data": {
      "text/plain": [
       "'first_para'"
      ]
     },
     "execution_count": 30,
     "metadata": {},
     "output_type": "execute_result"
    }
   ],
   "source": [
    "data.p.get('id')"
   ]
  },
  {
   "cell_type": "code",
   "execution_count": 31,
   "id": "972715ad",
   "metadata": {},
   "outputs": [
    {
     "data": {
      "text/plain": [
       "\" web page 12  Let's do Web Scraping let's Learn web scrapingLet's look in to scraping using Beautifulsoup from here\""
      ]
     },
     "execution_count": 31,
     "metadata": {},
     "output_type": "execute_result"
    }
   ],
   "source": [
    "data.get_text()"
   ]
  },
  {
   "cell_type": "code",
   "execution_count": 32,
   "id": "891bb742",
   "metadata": {},
   "outputs": [
    {
     "data": {
      "text/plain": [
       "<p class=\"abc\" id=\"first_para\">let's Learn <b>web scraping</b></p>"
      ]
     },
     "execution_count": 32,
     "metadata": {},
     "output_type": "execute_result"
    }
   ],
   "source": [
    "data.p"
   ]
  },
  {
   "cell_type": "code",
   "execution_count": 33,
   "id": "ad27cff4",
   "metadata": {},
   "outputs": [
    {
     "data": {
      "text/plain": [
       "<p class=\"abc\" id=\"first_para\">let's Learn <b>web scraping</b></p>"
      ]
     },
     "execution_count": 33,
     "metadata": {},
     "output_type": "execute_result"
    }
   ],
   "source": [
    "data.find('p')"
   ]
  },
  {
   "cell_type": "code",
   "execution_count": 35,
   "id": "438b60a6",
   "metadata": {},
   "outputs": [
    {
     "data": {
      "text/plain": [
       "[<p class=\"abc\" id=\"first_para\">let's Learn <b>web scraping</b></p>,\n",
       " <p class=\"abc\" id=\"second_para\">Let's look in to scraping using Beautifulsoup from <a href=\"https://beautiful-soup-4.readthedocs.io/en/latest/\">here</a></p>]"
      ]
     },
     "execution_count": 35,
     "metadata": {},
     "output_type": "execute_result"
    }
   ],
   "source": [
    "data.find_all('p')"
   ]
  },
  {
   "cell_type": "code",
   "execution_count": 36,
   "id": "46133811",
   "metadata": {},
   "outputs": [],
   "source": [
    "l1=data.find_all('p')"
   ]
  },
  {
   "cell_type": "code",
   "execution_count": 52,
   "id": "a3adaa8a",
   "metadata": {},
   "outputs": [
    {
     "data": {
      "text/plain": [
       "[<p class=\"abc\" id=\"first_para\">let's Learn <b>web scraping</b></p>,\n",
       " <p class=\"abc\" id=\"second_para\">Let's look in to scraping using Beautifulsoup from <a href=\"https://beautiful-soup-4.readthedocs.io/en/latest/\">here</a></p>]"
      ]
     },
     "execution_count": 52,
     "metadata": {},
     "output_type": "execute_result"
    }
   ],
   "source": [
    "l1"
   ]
  },
  {
   "cell_type": "code",
   "execution_count": 47,
   "id": "5507c687",
   "metadata": {},
   "outputs": [
    {
     "name": "stdout",
     "output_type": "stream",
     "text": [
      "let's Learn web scraping\n",
      "Let's look in to scraping using Beautifulsoup from here\n"
     ]
    }
   ],
   "source": [
    "for i in l1:\n",
    "    print(i.text)"
   ]
  },
  {
   "cell_type": "code",
   "execution_count": 48,
   "id": "e54322ea",
   "metadata": {},
   "outputs": [],
   "source": [
    "j=data.find(id=\"second_para\")"
   ]
  },
  {
   "cell_type": "code",
   "execution_count": 51,
   "id": "eda425b1",
   "metadata": {},
   "outputs": [
    {
     "name": "stdout",
     "output_type": "stream",
     "text": [
      "<p class=\"abc\" id=\"second_para\">Let's look in to scraping using Beautifulsoup from <a href=\"https://beautiful-soup-4.readthedocs.io/en/latest/\">here</a></p>\n"
     ]
    }
   ],
   "source": [
    "print(j)"
   ]
  },
  {
   "cell_type": "code",
   "execution_count": 50,
   "id": "3116cf69",
   "metadata": {},
   "outputs": [
    {
     "name": "stdout",
     "output_type": "stream",
     "text": [
      "Let's look in to scraping using Beautifulsoup from here\n"
     ]
    }
   ],
   "source": [
    "print(j.text)"
   ]
  },
  {
   "cell_type": "code",
   "execution_count": 64,
   "id": "21959370",
   "metadata": {},
   "outputs": [
    {
     "data": {
      "text/plain": [
       "[<p class=\"abc\" id=\"first_para\">let's Learn <b>web scraping</b></p>,\n",
       " <p class=\"abc\" id=\"second_para\">Let's look in to scraping using Beautifulsoup from <a href=\"https://beautiful-soup-4.readthedocs.io/en/latest/\">here</a></p>]"
      ]
     },
     "execution_count": 64,
     "metadata": {},
     "output_type": "execute_result"
    }
   ],
   "source": [
    "data.find_all(class_=\"abc\")"
   ]
  },
  {
   "cell_type": "code",
   "execution_count": 65,
   "id": "b12c9dd3",
   "metadata": {},
   "outputs": [
    {
     "data": {
      "text/plain": [
       "[<p class=\"abc\" id=\"first_para\">let's Learn <b>web scraping</b></p>,\n",
       " <p class=\"abc\" id=\"second_para\">Let's look in to scraping using Beautifulsoup from <a href=\"https://beautiful-soup-4.readthedocs.io/en/latest/\">here</a></p>]"
      ]
     },
     "execution_count": 65,
     "metadata": {},
     "output_type": "execute_result"
    }
   ],
   "source": [
    "l1"
   ]
  },
  {
   "cell_type": "code",
   "execution_count": 8,
   "id": "2df7fd30",
   "metadata": {},
   "outputs": [],
   "source": [
    "l2=data.find_all(['h1','p'])"
   ]
  },
  {
   "cell_type": "code",
   "execution_count": 5,
   "id": "5a0a4116",
   "metadata": {},
   "outputs": [
    {
     "data": {
      "text/plain": [
       "[<h1> Let's do Web Scraping </h1>,\n",
       " <p class=\"abc\" id=\"first_para\">let's Learn <b>web scraping</b></p>,\n",
       " <p class=\"abc\" id=\"second_para\">Let's look in to scraping using Beautifulsoup from <a href=\"https://beautiful-soup-4.readthedocs.io/en/latest/\">here</a></p>]"
      ]
     },
     "execution_count": 5,
     "metadata": {},
     "output_type": "execute_result"
    }
   ],
   "source": [
    "l2"
   ]
  },
  {
   "cell_type": "code",
   "execution_count": 9,
   "id": "0d6c28dc",
   "metadata": {},
   "outputs": [
    {
     "name": "stdout",
     "output_type": "stream",
     "text": [
      " Let's do Web Scraping \n",
      "None\n",
      "None\n"
     ]
    }
   ],
   "source": [
    "for i in l2:\n",
    "    print((i.string))"
   ]
  },
  {
   "cell_type": "code",
   "execution_count": 10,
   "id": "a537a27d",
   "metadata": {},
   "outputs": [
    {
     "name": "stdout",
     "output_type": "stream",
     "text": [
      "[\" Let's do Web Scraping \"]\n",
      "[\"let's Learn \", 'web scraping']\n",
      "[\"Let's look in to scraping using Beautifulsoup from \", 'here']\n"
     ]
    }
   ],
   "source": [
    "for i in l2:\n",
    "    print(list(i.strings))"
   ]
  },
  {
   "cell_type": "code",
   "execution_count": 14,
   "id": "25b79062",
   "metadata": {},
   "outputs": [
    {
     "name": "stdout",
     "output_type": "stream",
     "text": [
      "[\"Let's do Web Scraping\"]\n",
      "[\"let's Learn\", 'web scraping']\n",
      "[\"Let's look in to scraping using Beautifulsoup from\", 'here']\n"
     ]
    }
   ],
   "source": [
    "for i in l2:\n",
    "    print(list(i.stripped_strings))"
   ]
  },
  {
   "cell_type": "code",
   "execution_count": 15,
   "id": "5c7b70aa",
   "metadata": {},
   "outputs": [],
   "source": [
    "import requests"
   ]
  },
  {
   "cell_type": "code",
   "execution_count": 19,
   "id": "31122b40",
   "metadata": {},
   "outputs": [],
   "source": [
    "response=requests.get('https://info.cern.ch/hypertext/WWW/TheProject.html')"
   ]
  },
  {
   "cell_type": "code",
   "execution_count": 24,
   "id": "e4e59bdd",
   "metadata": {},
   "outputs": [],
   "source": [
    "html_d=response.text"
   ]
  },
  {
   "cell_type": "code",
   "execution_count": 29,
   "id": "408e3db0",
   "metadata": {},
   "outputs": [],
   "source": [
    "data=BeautifulSoup(html_d,'html.parser')"
   ]
  },
  {
   "cell_type": "code",
   "execution_count": 31,
   "id": "a8becc5f",
   "metadata": {},
   "outputs": [
    {
     "name": "stdout",
     "output_type": "stream",
     "text": [
      "<header>\n",
      " <title>\n",
      "  The World Wide Web project\n",
      " </title>\n",
      " <nextid n=\"55\"/>\n",
      "</header>\n",
      "<body>\n",
      " <h1>\n",
      "  World Wide Web\n",
      " </h1>\n",
      " The WorldWideWeb (W3) is a wide-area\n",
      " <a href=\"WhatIs.html\" name=\"0\">\n",
      "  hypermedia\n",
      " </a>\n",
      " information retrieval\n",
      "initiative aiming to give universal\n",
      "access to a large universe of documents.\n",
      " <p>\n",
      "  Everything there is online about\n",
      "W3 is linked directly or indirectly\n",
      "to this document, including an\n",
      "  <a href=\"Summary.html\" name=\"24\">\n",
      "   executive\n",
      "summary\n",
      "  </a>\n",
      "  of the project,\n",
      "  <a href=\"Administration/Mailing/Overview.html\" name=\"29\">\n",
      "   Mailing lists\n",
      "  </a>\n",
      "  ,\n",
      "  <a href=\"Policy.html\" name=\"30\">\n",
      "   Policy\n",
      "  </a>\n",
      "  , November's\n",
      "  <a href=\"News/9211.html\" name=\"34\">\n",
      "   W3  news\n",
      "  </a>\n",
      "  ,\n",
      "  <a href=\"FAQ/List.html\" name=\"41\">\n",
      "   Frequently Asked Questions\n",
      "  </a>\n",
      "  .\n",
      "  <dl>\n",
      "   <dt>\n",
      "    <a href=\"../DataSources/Top.html\" name=\"44\">\n",
      "     What's out there?\n",
      "    </a>\n",
      "    <dd>\n",
      "     Pointers to the\n",
      "world's online information,\n",
      "     <a href=\"../DataSources/bySubject/Overview.html\" name=\"45\">\n",
      "      subjects\n",
      "     </a>\n",
      "     ,\n",
      "     <a href=\"../DataSources/WWW/Servers.html\" name=\"z54\">\n",
      "      W3 servers\n",
      "     </a>\n",
      "     , etc.\n",
      "     <dt>\n",
      "      <a href=\"Help.html\" name=\"46\">\n",
      "       Help\n",
      "      </a>\n",
      "      <dd>\n",
      "       on the browser you are using\n",
      "       <dt>\n",
      "        <a href=\"Status.html\" name=\"13\">\n",
      "         Software Products\n",
      "        </a>\n",
      "        <dd>\n",
      "         A list of W3 project\n",
      "components and their current state.\n",
      "(e.g.\n",
      "         <a href=\"LineMode/Browser.html\" name=\"27\">\n",
      "          Line Mode\n",
      "         </a>\n",
      "         ,X11\n",
      "         <a href=\"Status.html#35\" name=\"35\">\n",
      "          Viola\n",
      "         </a>\n",
      "         ,\n",
      "         <a href=\"NeXT/WorldWideWeb.html\" name=\"26\">\n",
      "          NeXTStep\n",
      "         </a>\n",
      "         ,\n",
      "         <a href=\"Daemon/Overview.html\" name=\"25\">\n",
      "          Servers\n",
      "         </a>\n",
      "         ,\n",
      "         <a href=\"Tools/Overview.html\" name=\"51\">\n",
      "          Tools\n",
      "         </a>\n",
      "         ,\n",
      "         <a href=\"MailRobot/Overview.html\" name=\"53\">\n",
      "          Mail robot\n",
      "         </a>\n",
      "         ,\n",
      "         <a href=\"Status.html#57\" name=\"52\">\n",
      "          Library\n",
      "         </a>\n",
      "         )\n",
      "         <dt>\n",
      "          <a href=\"Technical.html\" name=\"47\">\n",
      "           Technical\n",
      "          </a>\n",
      "          <dd>\n",
      "           Details of protocols, formats,\n",
      "program internals etc\n",
      "           <dt>\n",
      "            <a href=\"Bibliography.html\" name=\"40\">\n",
      "             Bibliography\n",
      "            </a>\n",
      "            <dd>\n",
      "             Paper documentation\n",
      "on  W3 and references.\n",
      "             <dt>\n",
      "              <a href=\"People.html\" name=\"14\">\n",
      "               People\n",
      "              </a>\n",
      "              <dd>\n",
      "               A list of some people involved\n",
      "in the project.\n",
      "               <dt>\n",
      "                <a href=\"History.html\" name=\"15\">\n",
      "                 History\n",
      "                </a>\n",
      "                <dd>\n",
      "                 A summary of the history\n",
      "of the project.\n",
      "                 <dt>\n",
      "                  <a href=\"Helping.html\" name=\"37\">\n",
      "                   How can I help\n",
      "                  </a>\n",
      "                  ?\n",
      "                  <dd>\n",
      "                   If you would like\n",
      "to support the web..\n",
      "                   <dt>\n",
      "                    <a href=\"../README.html\" name=\"48\">\n",
      "                     Getting code\n",
      "                    </a>\n",
      "                    <dd>\n",
      "                     Getting the code by\n",
      "                     <a href=\"LineMode/Defaults/Distribution.html\" name=\"49\">\n",
      "                      anonymous FTP\n",
      "                     </a>\n",
      "                     , etc.\n",
      "                    </dd>\n",
      "                   </dt>\n",
      "                  </dd>\n",
      "                 </dt>\n",
      "                </dd>\n",
      "               </dt>\n",
      "              </dd>\n",
      "             </dt>\n",
      "            </dd>\n",
      "           </dt>\n",
      "          </dd>\n",
      "         </dt>\n",
      "        </dd>\n",
      "       </dt>\n",
      "      </dd>\n",
      "     </dt>\n",
      "    </dd>\n",
      "   </dt>\n",
      "  </dl>\n",
      " </p>\n",
      "</body>\n",
      "\n"
     ]
    }
   ],
   "source": [
    "print(data.prettify())"
   ]
  },
  {
   "cell_type": "code",
   "execution_count": 32,
   "id": "67e74c8e",
   "metadata": {},
   "outputs": [
    {
     "data": {
      "text/plain": [
       "<h1>World Wide Web</h1>"
      ]
     },
     "execution_count": 32,
     "metadata": {},
     "output_type": "execute_result"
    }
   ],
   "source": [
    "data.h1"
   ]
  },
  {
   "cell_type": "code",
   "execution_count": 33,
   "id": "1042dbbb",
   "metadata": {},
   "outputs": [
    {
     "data": {
      "text/plain": [
       "'World Wide Web'"
      ]
     },
     "execution_count": 33,
     "metadata": {},
     "output_type": "execute_result"
    }
   ],
   "source": [
    "data.h1.string"
   ]
  },
  {
   "cell_type": "code",
   "execution_count": 35,
   "id": "a7692ab4",
   "metadata": {},
   "outputs": [
    {
     "name": "stdout",
     "output_type": "stream",
     "text": [
      "\n",
      "The World Wide Web project\n",
      "\n",
      "\n",
      "\n",
      "World Wide WebThe WorldWideWeb (W3) is a wide-area\n",
      "hypermedia information retrieval\n",
      "initiative aiming to give universal\n",
      "access to a large universe of documents.\n",
      "Everything there is online about\n",
      "W3 is linked directly or indirectly\n",
      "to this document, including an executive\n",
      "summary of the project, Mailing lists\n",
      ", Policy , November's  W3  news ,\n",
      "Frequently Asked Questions .\n",
      "\n",
      "What's out there?\n",
      " Pointers to the\n",
      "world's online information, subjects\n",
      ", W3 servers, etc.\n",
      "Help\n",
      " on the browser you are using\n",
      "Software Products\n",
      " A list of W3 project\n",
      "components and their current state.\n",
      "(e.g. Line Mode ,X11 Viola ,  NeXTStep\n",
      ", Servers , Tools , Mail robot ,\n",
      "Library )\n",
      "Technical\n",
      " Details of protocols, formats,\n",
      "program internals etc\n",
      "Bibliography\n",
      " Paper documentation\n",
      "on  W3 and references.\n",
      "People\n",
      " A list of some people involved\n",
      "in the project.\n",
      "History\n",
      " A summary of the history\n",
      "of the project.\n",
      "How can I help ?\n",
      " If you would like\n",
      "to support the web..\n",
      "Getting code\n",
      " Getting the code by\n",
      "anonymous FTP , etc.\n",
      "\n",
      "\n",
      "\n"
     ]
    }
   ],
   "source": [
    "print(data.text)"
   ]
  },
  {
   "cell_type": "code",
   "execution_count": 38,
   "id": "cfc4555a",
   "metadata": {},
   "outputs": [],
   "source": [
    "l1=data.find_all('a')"
   ]
  },
  {
   "cell_type": "code",
   "execution_count": 39,
   "id": "bfe22644",
   "metadata": {},
   "outputs": [
    {
     "data": {
      "text/plain": [
       "[<a href=\"WhatIs.html\" name=\"0\">\n",
       " hypermedia</a>,\n",
       " <a href=\"Summary.html\" name=\"24\">executive\n",
       " summary</a>,\n",
       " <a href=\"Administration/Mailing/Overview.html\" name=\"29\">Mailing lists</a>,\n",
       " <a href=\"Policy.html\" name=\"30\">Policy</a>,\n",
       " <a href=\"News/9211.html\" name=\"34\">W3  news</a>,\n",
       " <a href=\"FAQ/List.html\" name=\"41\">Frequently Asked Questions</a>,\n",
       " <a href=\"../DataSources/Top.html\" name=\"44\">What's out there?</a>,\n",
       " <a href=\"../DataSources/bySubject/Overview.html\" name=\"45\"> subjects</a>,\n",
       " <a href=\"../DataSources/WWW/Servers.html\" name=\"z54\">W3 servers</a>,\n",
       " <a href=\"Help.html\" name=\"46\">Help</a>,\n",
       " <a href=\"Status.html\" name=\"13\">Software Products</a>,\n",
       " <a href=\"LineMode/Browser.html\" name=\"27\">Line Mode</a>,\n",
       " <a href=\"Status.html#35\" name=\"35\">Viola</a>,\n",
       " <a href=\"NeXT/WorldWideWeb.html\" name=\"26\">NeXTStep</a>,\n",
       " <a href=\"Daemon/Overview.html\" name=\"25\">Servers</a>,\n",
       " <a href=\"Tools/Overview.html\" name=\"51\">Tools</a>,\n",
       " <a href=\"MailRobot/Overview.html\" name=\"53\"> Mail robot</a>,\n",
       " <a href=\"Status.html#57\" name=\"52\">\n",
       " Library</a>,\n",
       " <a href=\"Technical.html\" name=\"47\">Technical</a>,\n",
       " <a href=\"Bibliography.html\" name=\"40\">Bibliography</a>,\n",
       " <a href=\"People.html\" name=\"14\">People</a>,\n",
       " <a href=\"History.html\" name=\"15\">History</a>,\n",
       " <a href=\"Helping.html\" name=\"37\">How can I help</a>,\n",
       " <a href=\"../README.html\" name=\"48\">Getting code</a>,\n",
       " <a href=\"LineMode/Defaults/Distribution.html\" name=\"49\">\n",
       " anonymous FTP</a>]"
      ]
     },
     "execution_count": 39,
     "metadata": {},
     "output_type": "execute_result"
    }
   ],
   "source": [
    "l1"
   ]
  },
  {
   "cell_type": "code",
   "execution_count": 44,
   "id": "3746fa54",
   "metadata": {},
   "outputs": [
    {
     "name": "stdout",
     "output_type": "stream",
     "text": [
      "WhatIs.html\n",
      "Summary.html\n",
      "Administration/Mailing/Overview.html\n",
      "Policy.html\n",
      "News/9211.html\n",
      "FAQ/List.html\n",
      "../DataSources/Top.html\n",
      "../DataSources/bySubject/Overview.html\n",
      "../DataSources/WWW/Servers.html\n",
      "Help.html\n",
      "Status.html\n",
      "LineMode/Browser.html\n",
      "Status.html#35\n",
      "NeXT/WorldWideWeb.html\n",
      "Daemon/Overview.html\n",
      "Tools/Overview.html\n",
      "MailRobot/Overview.html\n",
      "Status.html#57\n",
      "Technical.html\n",
      "Bibliography.html\n",
      "People.html\n",
      "History.html\n",
      "Helping.html\n",
      "../README.html\n",
      "LineMode/Defaults/Distribution.html\n"
     ]
    }
   ],
   "source": [
    "for i in l1:\n",
    "    print(i['href'])"
   ]
  },
  {
   "cell_type": "code",
   "execution_count": 57,
   "id": "77e76428",
   "metadata": {},
   "outputs": [],
   "source": [
    "l2=data.dl.dt.find_all('a')"
   ]
  },
  {
   "cell_type": "code",
   "execution_count": 58,
   "id": "1cf4798f",
   "metadata": {},
   "outputs": [
    {
     "data": {
      "text/plain": [
       "[<a href=\"../DataSources/Top.html\" name=\"44\">What's out there?</a>,\n",
       " <a href=\"../DataSources/bySubject/Overview.html\" name=\"45\"> subjects</a>,\n",
       " <a href=\"../DataSources/WWW/Servers.html\" name=\"z54\">W3 servers</a>,\n",
       " <a href=\"Help.html\" name=\"46\">Help</a>,\n",
       " <a href=\"Status.html\" name=\"13\">Software Products</a>,\n",
       " <a href=\"LineMode/Browser.html\" name=\"27\">Line Mode</a>,\n",
       " <a href=\"Status.html#35\" name=\"35\">Viola</a>,\n",
       " <a href=\"NeXT/WorldWideWeb.html\" name=\"26\">NeXTStep</a>,\n",
       " <a href=\"Daemon/Overview.html\" name=\"25\">Servers</a>,\n",
       " <a href=\"Tools/Overview.html\" name=\"51\">Tools</a>,\n",
       " <a href=\"MailRobot/Overview.html\" name=\"53\"> Mail robot</a>,\n",
       " <a href=\"Status.html#57\" name=\"52\">\n",
       " Library</a>,\n",
       " <a href=\"Technical.html\" name=\"47\">Technical</a>,\n",
       " <a href=\"Bibliography.html\" name=\"40\">Bibliography</a>,\n",
       " <a href=\"People.html\" name=\"14\">People</a>,\n",
       " <a href=\"History.html\" name=\"15\">History</a>,\n",
       " <a href=\"Helping.html\" name=\"37\">How can I help</a>,\n",
       " <a href=\"../README.html\" name=\"48\">Getting code</a>,\n",
       " <a href=\"LineMode/Defaults/Distribution.html\" name=\"49\">\n",
       " anonymous FTP</a>]"
      ]
     },
     "execution_count": 58,
     "metadata": {},
     "output_type": "execute_result"
    }
   ],
   "source": [
    "l2"
   ]
  },
  {
   "cell_type": "code",
   "execution_count": 62,
   "id": "7b8591bc",
   "metadata": {},
   "outputs": [],
   "source": [
    "l3=data.dl.find_all('dt')"
   ]
  },
  {
   "cell_type": "code",
   "execution_count": 64,
   "id": "aad6b102",
   "metadata": {},
   "outputs": [
    {
     "name": "stdout",
     "output_type": "stream",
     "text": [
      "What's out there?\n",
      "Help\n",
      "Software Products\n",
      "Technical\n",
      "Bibliography\n",
      "People\n",
      "History\n",
      "How can I help\n",
      "Getting code\n"
     ]
    }
   ],
   "source": [
    "for i in l3:\n",
    "    print(i.a.string)"
   ]
  },
  {
   "cell_type": "code",
   "execution_count": 65,
   "id": "2ab5c5bb",
   "metadata": {},
   "outputs": [],
   "source": [
    "response=requests.get('https://books.toscrape.com/catalogue/page-1.html')"
   ]
  },
  {
   "cell_type": "code",
   "execution_count": 66,
   "id": "6df87f65",
   "metadata": {},
   "outputs": [
    {
     "data": {
      "text/plain": [
       "<Response [200]>"
      ]
     },
     "execution_count": 66,
     "metadata": {},
     "output_type": "execute_result"
    }
   ],
   "source": [
    "response"
   ]
  },
  {
   "cell_type": "code",
   "execution_count": 73,
   "id": "cecb9cd2",
   "metadata": {},
   "outputs": [],
   "source": [
    "data=response.text"
   ]
  },
  {
   "cell_type": "code",
   "execution_count": 74,
   "id": "6b51d0f5",
   "metadata": {},
   "outputs": [
    {
     "data": {
      "text/plain": [
       "str"
      ]
     },
     "execution_count": 74,
     "metadata": {},
     "output_type": "execute_result"
    }
   ],
   "source": [
    "type(data)"
   ]
  },
  {
   "cell_type": "code",
   "execution_count": 75,
   "id": "19558786",
   "metadata": {},
   "outputs": [],
   "source": [
    "data=BeautifulSoup(data,'html.parser')"
   ]
  },
  {
   "cell_type": "code",
   "execution_count": 79,
   "id": "e0ba4654",
   "metadata": {},
   "outputs": [
    {
     "name": "stdout",
     "output_type": "stream",
     "text": [
      "<!DOCTYPE html>\n",
      "<!--[if lt IE 7]>      <html lang=\"en-us\" class=\"no-js lt-ie9 lt-ie8 lt-ie7\"> <![endif]-->\n",
      "<!--[if IE 7]>         <html lang=\"en-us\" class=\"no-js lt-ie9 lt-ie8\"> <![endif]-->\n",
      "<!--[if IE 8]>         <html lang=\"en-us\" class=\"no-js lt-ie9\"> <![endif]-->\n",
      "<!--[if gt IE 8]><!-->\n",
      "<html class=\"no-js\" lang=\"en-us\">\n",
      " <!--<![endif]-->\n",
      " <head>\n",
      "  <title>\n",
      "   All products | Books to Scrape - Sandbox\n",
      "  </title>\n",
      "  <meta content=\"text/html; charset=utf-8\" http-equiv=\"content-type\"/>\n",
      "  <meta content=\"24th Jun 2016 09:30\" name=\"created\"/>\n",
      "  <meta content=\"\" name=\"description\"/>\n",
      "  <meta content=\"width=device-width\" name=\"viewport\"/>\n",
      "  <meta content=\"NOARCHIVE,NOCACHE\" name=\"robots\"/>\n",
      "  <!-- Le HTML5 shim, for IE6-8 support of HTML elements -->\n",
      "  <!--[if lt IE 9]>\n",
      "        <script src=\"//html5shim.googlecode.com/svn/trunk/html5.js\"></script>\n",
      "        <![endif]-->\n",
      "  <link href=\"../static/oscar/favicon.ico\" rel=\"shortcut icon\"/>\n",
      "  <link href=\"../static/oscar/css/styles.css\" rel=\"stylesheet\" type=\"text/css\"/>\n",
      "  <link href=\"../static/oscar/js/bootstrap-datetimepicker/bootstrap-datetimepicker.css\" rel=\"stylesheet\"/>\n",
      "  <link href=\"../static/oscar/css/datetimepicker.css\" rel=\"stylesheet\" type=\"text/css\"/>\n",
      " </head>\n",
      " <body class=\"default\" id=\"default\">\n",
      "  <header class=\"header container-fluid\">\n",
      "   <div class=\"page_inner\">\n",
      "    <div class=\"row\">\n",
      "     <div class=\"col-sm-8 h1\">\n",
      "      <a href=\"../index.html\">\n",
      "       Books to Scrape\n",
      "      </a>\n",
      "      <small>\n",
      "       We love being scraped!\n",
      "      </small>\n",
      "     </div>\n",
      "    </div>\n",
      "   </div>\n",
      "  </header>\n",
      "  <div class=\"container-fluid page\">\n",
      "   <div class=\"page_inner\">\n",
      "    <ul class=\"breadcrumb\">\n",
      "     <li>\n",
      "      <a href=\"../index.html\">\n",
      "       Home\n",
      "      </a>\n",
      "     </li>\n",
      "     <li class=\"active\">\n",
      "      All products\n",
      "     </li>\n",
      "    </ul>\n",
      "    <div class=\"row\">\n",
      "     <aside class=\"sidebar col-sm-4 col-md-3\">\n",
      "      <div id=\"promotions_left\">\n",
      "      </div>\n",
      "      <div class=\"side_categories\">\n",
      "       <ul class=\"nav nav-list\">\n",
      "        <li>\n",
      "         <a href=\"category/books_1/index.html\">\n",
      "          Books\n",
      "         </a>\n",
      "         <ul>\n",
      "          <li>\n",
      "           <a href=\"category/books/travel_2/index.html\">\n",
      "            Travel\n",
      "           </a>\n",
      "          </li>\n",
      "          <li>\n",
      "           <a href=\"category/books/mystery_3/index.html\">\n",
      "            Mystery\n",
      "           </a>\n",
      "          </li>\n",
      "          <li>\n",
      "           <a href=\"category/books/historical-fiction_4/index.html\">\n",
      "            Historical Fiction\n",
      "           </a>\n",
      "          </li>\n",
      "          <li>\n",
      "           <a href=\"category/books/sequential-art_5/index.html\">\n",
      "            Sequential Art\n",
      "           </a>\n",
      "          </li>\n",
      "          <li>\n",
      "           <a href=\"category/books/classics_6/index.html\">\n",
      "            Classics\n",
      "           </a>\n",
      "          </li>\n",
      "          <li>\n",
      "           <a href=\"category/books/philosophy_7/index.html\">\n",
      "            Philosophy\n",
      "           </a>\n",
      "          </li>\n",
      "          <li>\n",
      "           <a href=\"category/books/romance_8/index.html\">\n",
      "            Romance\n",
      "           </a>\n",
      "          </li>\n",
      "          <li>\n",
      "           <a href=\"category/books/womens-fiction_9/index.html\">\n",
      "            Womens Fiction\n",
      "           </a>\n",
      "          </li>\n",
      "          <li>\n",
      "           <a href=\"category/books/fiction_10/index.html\">\n",
      "            Fiction\n",
      "           </a>\n",
      "          </li>\n",
      "          <li>\n",
      "           <a href=\"category/books/childrens_11/index.html\">\n",
      "            Childrens\n",
      "           </a>\n",
      "          </li>\n",
      "          <li>\n",
      "           <a href=\"category/books/religion_12/index.html\">\n",
      "            Religion\n",
      "           </a>\n",
      "          </li>\n",
      "          <li>\n",
      "           <a href=\"category/books/nonfiction_13/index.html\">\n",
      "            Nonfiction\n",
      "           </a>\n",
      "          </li>\n",
      "          <li>\n",
      "           <a href=\"category/books/music_14/index.html\">\n",
      "            Music\n",
      "           </a>\n",
      "          </li>\n",
      "          <li>\n",
      "           <a href=\"category/books/default_15/index.html\">\n",
      "            Default\n",
      "           </a>\n",
      "          </li>\n",
      "          <li>\n",
      "           <a href=\"category/books/science-fiction_16/index.html\">\n",
      "            Science Fiction\n",
      "           </a>\n",
      "          </li>\n",
      "          <li>\n",
      "           <a href=\"category/books/sports-and-games_17/index.html\">\n",
      "            Sports and Games\n",
      "           </a>\n",
      "          </li>\n",
      "          <li>\n",
      "           <a href=\"category/books/add-a-comment_18/index.html\">\n",
      "            Add a comment\n",
      "           </a>\n",
      "          </li>\n",
      "          <li>\n",
      "           <a href=\"category/books/fantasy_19/index.html\">\n",
      "            Fantasy\n",
      "           </a>\n",
      "          </li>\n",
      "          <li>\n",
      "           <a href=\"category/books/new-adult_20/index.html\">\n",
      "            New Adult\n",
      "           </a>\n",
      "          </li>\n",
      "          <li>\n",
      "           <a href=\"category/books/young-adult_21/index.html\">\n",
      "            Young Adult\n",
      "           </a>\n",
      "          </li>\n",
      "          <li>\n",
      "           <a href=\"category/books/science_22/index.html\">\n",
      "            Science\n",
      "           </a>\n",
      "          </li>\n",
      "          <li>\n",
      "           <a href=\"category/books/poetry_23/index.html\">\n",
      "            Poetry\n",
      "           </a>\n",
      "          </li>\n",
      "          <li>\n",
      "           <a href=\"category/books/paranormal_24/index.html\">\n",
      "            Paranormal\n",
      "           </a>\n",
      "          </li>\n",
      "          <li>\n",
      "           <a href=\"category/books/art_25/index.html\">\n",
      "            Art\n",
      "           </a>\n",
      "          </li>\n",
      "          <li>\n",
      "           <a href=\"category/books/psychology_26/index.html\">\n",
      "            Psychology\n",
      "           </a>\n",
      "          </li>\n",
      "          <li>\n",
      "           <a href=\"category/books/autobiography_27/index.html\">\n",
      "            Autobiography\n",
      "           </a>\n",
      "          </li>\n",
      "          <li>\n",
      "           <a href=\"category/books/parenting_28/index.html\">\n",
      "            Parenting\n",
      "           </a>\n",
      "          </li>\n",
      "          <li>\n",
      "           <a href=\"category/books/adult-fiction_29/index.html\">\n",
      "            Adult Fiction\n",
      "           </a>\n",
      "          </li>\n",
      "          <li>\n",
      "           <a href=\"category/books/humor_30/index.html\">\n",
      "            Humor\n",
      "           </a>\n",
      "          </li>\n",
      "          <li>\n",
      "           <a href=\"category/books/horror_31/index.html\">\n",
      "            Horror\n",
      "           </a>\n",
      "          </li>\n",
      "          <li>\n",
      "           <a href=\"category/books/history_32/index.html\">\n",
      "            History\n",
      "           </a>\n",
      "          </li>\n",
      "          <li>\n",
      "           <a href=\"category/books/food-and-drink_33/index.html\">\n",
      "            Food and Drink\n",
      "           </a>\n",
      "          </li>\n",
      "          <li>\n",
      "           <a href=\"category/books/christian-fiction_34/index.html\">\n",
      "            Christian Fiction\n",
      "           </a>\n",
      "          </li>\n",
      "          <li>\n",
      "           <a href=\"category/books/business_35/index.html\">\n",
      "            Business\n",
      "           </a>\n",
      "          </li>\n",
      "          <li>\n",
      "           <a href=\"category/books/biography_36/index.html\">\n",
      "            Biography\n",
      "           </a>\n",
      "          </li>\n",
      "          <li>\n",
      "           <a href=\"category/books/thriller_37/index.html\">\n",
      "            Thriller\n",
      "           </a>\n",
      "          </li>\n",
      "          <li>\n",
      "           <a href=\"category/books/contemporary_38/index.html\">\n",
      "            Contemporary\n",
      "           </a>\n",
      "          </li>\n",
      "          <li>\n",
      "           <a href=\"category/books/spirituality_39/index.html\">\n",
      "            Spirituality\n",
      "           </a>\n",
      "          </li>\n",
      "          <li>\n",
      "           <a href=\"category/books/academic_40/index.html\">\n",
      "            Academic\n",
      "           </a>\n",
      "          </li>\n",
      "          <li>\n",
      "           <a href=\"category/books/self-help_41/index.html\">\n",
      "            Self Help\n",
      "           </a>\n",
      "          </li>\n",
      "          <li>\n",
      "           <a href=\"category/books/historical_42/index.html\">\n",
      "            Historical\n",
      "           </a>\n",
      "          </li>\n",
      "          <li>\n",
      "           <a href=\"category/books/christian_43/index.html\">\n",
      "            Christian\n",
      "           </a>\n",
      "          </li>\n",
      "          <li>\n",
      "           <a href=\"category/books/suspense_44/index.html\">\n",
      "            Suspense\n",
      "           </a>\n",
      "          </li>\n",
      "          <li>\n",
      "           <a href=\"category/books/short-stories_45/index.html\">\n",
      "            Short Stories\n",
      "           </a>\n",
      "          </li>\n",
      "          <li>\n",
      "           <a href=\"category/books/novels_46/index.html\">\n",
      "            Novels\n",
      "           </a>\n",
      "          </li>\n",
      "          <li>\n",
      "           <a href=\"category/books/health_47/index.html\">\n",
      "            Health\n",
      "           </a>\n",
      "          </li>\n",
      "          <li>\n",
      "           <a href=\"category/books/politics_48/index.html\">\n",
      "            Politics\n",
      "           </a>\n",
      "          </li>\n",
      "          <li>\n",
      "           <a href=\"category/books/cultural_49/index.html\">\n",
      "            Cultural\n",
      "           </a>\n",
      "          </li>\n",
      "          <li>\n",
      "           <a href=\"category/books/erotica_50/index.html\">\n",
      "            Erotica\n",
      "           </a>\n",
      "          </li>\n",
      "          <li>\n",
      "           <a href=\"category/books/crime_51/index.html\">\n",
      "            Crime\n",
      "           </a>\n",
      "          </li>\n",
      "         </ul>\n",
      "        </li>\n",
      "       </ul>\n",
      "      </div>\n",
      "     </aside>\n",
      "     <div class=\"col-sm-8 col-md-9\">\n",
      "      <div class=\"page-header action\">\n",
      "       <h1>\n",
      "        All products\n",
      "       </h1>\n",
      "      </div>\n",
      "      <div id=\"messages\">\n",
      "      </div>\n",
      "      <div id=\"promotions\">\n",
      "      </div>\n",
      "      <form class=\"form-horizontal\" method=\"get\">\n",
      "       <div style=\"display:none\">\n",
      "       </div>\n",
      "       <strong>\n",
      "        1000\n",
      "       </strong>\n",
      "       results - showing\n",
      "       <strong>\n",
      "        1\n",
      "       </strong>\n",
      "       to\n",
      "       <strong>\n",
      "        20\n",
      "       </strong>\n",
      "       .\n",
      "      </form>\n",
      "      <section>\n",
      "       <div class=\"alert alert-warning\" role=\"alert\">\n",
      "        <strong>\n",
      "         Warning!\n",
      "        </strong>\n",
      "        This is a demo website for web scraping purposes. Prices and ratings here were randomly assigned and have no real meaning.\n",
      "       </div>\n",
      "       <div>\n",
      "        <ol class=\"row\">\n",
      "         <li class=\"col-xs-6 col-sm-4 col-md-3 col-lg-3\">\n",
      "          <article class=\"product_pod\">\n",
      "           <div class=\"image_container\">\n",
      "            <a href=\"a-light-in-the-attic_1000/index.html\">\n",
      "             <img alt=\"A Light in the Attic\" class=\"thumbnail\" src=\"../media/cache/2c/da/2cdad67c44b002e7ead0cc35693c0e8b.jpg\"/>\n",
      "            </a>\n",
      "           </div>\n",
      "           <p class=\"star-rating Three\">\n",
      "            <i class=\"icon-star\">\n",
      "            </i>\n",
      "            <i class=\"icon-star\">\n",
      "            </i>\n",
      "            <i class=\"icon-star\">\n",
      "            </i>\n",
      "            <i class=\"icon-star\">\n",
      "            </i>\n",
      "            <i class=\"icon-star\">\n",
      "            </i>\n",
      "           </p>\n",
      "           <h3>\n",
      "            <a href=\"a-light-in-the-attic_1000/index.html\" title=\"A Light in the Attic\">\n",
      "             A Light in the ...\n",
      "            </a>\n",
      "           </h3>\n",
      "           <div class=\"product_price\">\n",
      "            <p class=\"price_color\">\n",
      "             Â£51.77\n",
      "            </p>\n",
      "            <p class=\"instock availability\">\n",
      "             <i class=\"icon-ok\">\n",
      "             </i>\n",
      "             In stock\n",
      "            </p>\n",
      "            <form>\n",
      "             <button class=\"btn btn-primary btn-block\" data-loading-text=\"Adding...\" type=\"submit\">\n",
      "              Add to basket\n",
      "             </button>\n",
      "            </form>\n",
      "           </div>\n",
      "          </article>\n",
      "         </li>\n",
      "         <li class=\"col-xs-6 col-sm-4 col-md-3 col-lg-3\">\n",
      "          <article class=\"product_pod\">\n",
      "           <div class=\"image_container\">\n",
      "            <a href=\"tipping-the-velvet_999/index.html\">\n",
      "             <img alt=\"Tipping the Velvet\" class=\"thumbnail\" src=\"../media/cache/26/0c/260c6ae16bce31c8f8c95daddd9f4a1c.jpg\"/>\n",
      "            </a>\n",
      "           </div>\n",
      "           <p class=\"star-rating One\">\n",
      "            <i class=\"icon-star\">\n",
      "            </i>\n",
      "            <i class=\"icon-star\">\n",
      "            </i>\n",
      "            <i class=\"icon-star\">\n",
      "            </i>\n",
      "            <i class=\"icon-star\">\n",
      "            </i>\n",
      "            <i class=\"icon-star\">\n",
      "            </i>\n",
      "           </p>\n",
      "           <h3>\n",
      "            <a href=\"tipping-the-velvet_999/index.html\" title=\"Tipping the Velvet\">\n",
      "             Tipping the Velvet\n",
      "            </a>\n",
      "           </h3>\n",
      "           <div class=\"product_price\">\n",
      "            <p class=\"price_color\">\n",
      "             Â£53.74\n",
      "            </p>\n",
      "            <p class=\"instock availability\">\n",
      "             <i class=\"icon-ok\">\n",
      "             </i>\n",
      "             In stock\n",
      "            </p>\n",
      "            <form>\n",
      "             <button class=\"btn btn-primary btn-block\" data-loading-text=\"Adding...\" type=\"submit\">\n",
      "              Add to basket\n",
      "             </button>\n",
      "            </form>\n",
      "           </div>\n",
      "          </article>\n",
      "         </li>\n",
      "         <li class=\"col-xs-6 col-sm-4 col-md-3 col-lg-3\">\n",
      "          <article class=\"product_pod\">\n",
      "           <div class=\"image_container\">\n",
      "            <a href=\"soumission_998/index.html\">\n",
      "             <img alt=\"Soumission\" class=\"thumbnail\" src=\"../media/cache/3e/ef/3eef99c9d9adef34639f510662022830.jpg\"/>\n",
      "            </a>\n",
      "           </div>\n",
      "           <p class=\"star-rating One\">\n",
      "            <i class=\"icon-star\">\n",
      "            </i>\n",
      "            <i class=\"icon-star\">\n",
      "            </i>\n",
      "            <i class=\"icon-star\">\n",
      "            </i>\n",
      "            <i class=\"icon-star\">\n",
      "            </i>\n",
      "            <i class=\"icon-star\">\n",
      "            </i>\n",
      "           </p>\n",
      "           <h3>\n",
      "            <a href=\"soumission_998/index.html\" title=\"Soumission\">\n",
      "             Soumission\n",
      "            </a>\n",
      "           </h3>\n",
      "           <div class=\"product_price\">\n",
      "            <p class=\"price_color\">\n",
      "             Â£50.10\n",
      "            </p>\n",
      "            <p class=\"instock availability\">\n",
      "             <i class=\"icon-ok\">\n",
      "             </i>\n",
      "             In stock\n",
      "            </p>\n",
      "            <form>\n",
      "             <button class=\"btn btn-primary btn-block\" data-loading-text=\"Adding...\" type=\"submit\">\n",
      "              Add to basket\n",
      "             </button>\n",
      "            </form>\n",
      "           </div>\n",
      "          </article>\n",
      "         </li>\n",
      "         <li class=\"col-xs-6 col-sm-4 col-md-3 col-lg-3\">\n",
      "          <article class=\"product_pod\">\n",
      "           <div class=\"image_container\">\n",
      "            <a href=\"sharp-objects_997/index.html\">\n",
      "             <img alt=\"Sharp Objects\" class=\"thumbnail\" src=\"../media/cache/32/51/3251cf3a3412f53f339e42cac2134093.jpg\"/>\n",
      "            </a>\n",
      "           </div>\n",
      "           <p class=\"star-rating Four\">\n",
      "            <i class=\"icon-star\">\n",
      "            </i>\n",
      "            <i class=\"icon-star\">\n",
      "            </i>\n",
      "            <i class=\"icon-star\">\n",
      "            </i>\n",
      "            <i class=\"icon-star\">\n",
      "            </i>\n",
      "            <i class=\"icon-star\">\n",
      "            </i>\n",
      "           </p>\n",
      "           <h3>\n",
      "            <a href=\"sharp-objects_997/index.html\" title=\"Sharp Objects\">\n",
      "             Sharp Objects\n",
      "            </a>\n",
      "           </h3>\n",
      "           <div class=\"product_price\">\n",
      "            <p class=\"price_color\">\n",
      "             Â£47.82\n",
      "            </p>\n",
      "            <p class=\"instock availability\">\n",
      "             <i class=\"icon-ok\">\n",
      "             </i>\n",
      "             In stock\n",
      "            </p>\n",
      "            <form>\n",
      "             <button class=\"btn btn-primary btn-block\" data-loading-text=\"Adding...\" type=\"submit\">\n",
      "              Add to basket\n",
      "             </button>\n",
      "            </form>\n",
      "           </div>\n",
      "          </article>\n",
      "         </li>\n",
      "         <li class=\"col-xs-6 col-sm-4 col-md-3 col-lg-3\">\n",
      "          <article class=\"product_pod\">\n",
      "           <div class=\"image_container\">\n",
      "            <a href=\"sapiens-a-brief-history-of-humankind_996/index.html\">\n",
      "             <img alt=\"Sapiens: A Brief History of Humankind\" class=\"thumbnail\" src=\"../media/cache/be/a5/bea5697f2534a2f86a3ef27b5a8c12a6.jpg\"/>\n",
      "            </a>\n",
      "           </div>\n",
      "           <p class=\"star-rating Five\">\n",
      "            <i class=\"icon-star\">\n",
      "            </i>\n",
      "            <i class=\"icon-star\">\n",
      "            </i>\n",
      "            <i class=\"icon-star\">\n",
      "            </i>\n",
      "            <i class=\"icon-star\">\n",
      "            </i>\n",
      "            <i class=\"icon-star\">\n",
      "            </i>\n",
      "           </p>\n",
      "           <h3>\n",
      "            <a href=\"sapiens-a-brief-history-of-humankind_996/index.html\" title=\"Sapiens: A Brief History of Humankind\">\n",
      "             Sapiens: A Brief History ...\n",
      "            </a>\n",
      "           </h3>\n",
      "           <div class=\"product_price\">\n",
      "            <p class=\"price_color\">\n",
      "             Â£54.23\n",
      "            </p>\n",
      "            <p class=\"instock availability\">\n",
      "             <i class=\"icon-ok\">\n",
      "             </i>\n",
      "             In stock\n",
      "            </p>\n",
      "            <form>\n",
      "             <button class=\"btn btn-primary btn-block\" data-loading-text=\"Adding...\" type=\"submit\">\n",
      "              Add to basket\n",
      "             </button>\n",
      "            </form>\n",
      "           </div>\n",
      "          </article>\n",
      "         </li>\n",
      "         <li class=\"col-xs-6 col-sm-4 col-md-3 col-lg-3\">\n",
      "          <article class=\"product_pod\">\n",
      "           <div class=\"image_container\">\n",
      "            <a href=\"the-requiem-red_995/index.html\">\n",
      "             <img alt=\"The Requiem Red\" class=\"thumbnail\" src=\"../media/cache/68/33/68339b4c9bc034267e1da611ab3b34f8.jpg\"/>\n",
      "            </a>\n",
      "           </div>\n",
      "           <p class=\"star-rating One\">\n",
      "            <i class=\"icon-star\">\n",
      "            </i>\n",
      "            <i class=\"icon-star\">\n",
      "            </i>\n",
      "            <i class=\"icon-star\">\n",
      "            </i>\n",
      "            <i class=\"icon-star\">\n",
      "            </i>\n",
      "            <i class=\"icon-star\">\n",
      "            </i>\n",
      "           </p>\n",
      "           <h3>\n",
      "            <a href=\"the-requiem-red_995/index.html\" title=\"The Requiem Red\">\n",
      "             The Requiem Red\n",
      "            </a>\n",
      "           </h3>\n",
      "           <div class=\"product_price\">\n",
      "            <p class=\"price_color\">\n",
      "             Â£22.65\n",
      "            </p>\n",
      "            <p class=\"instock availability\">\n",
      "             <i class=\"icon-ok\">\n",
      "             </i>\n",
      "             In stock\n",
      "            </p>\n",
      "            <form>\n",
      "             <button class=\"btn btn-primary btn-block\" data-loading-text=\"Adding...\" type=\"submit\">\n",
      "              Add to basket\n",
      "             </button>\n",
      "            </form>\n",
      "           </div>\n",
      "          </article>\n",
      "         </li>\n",
      "         <li class=\"col-xs-6 col-sm-4 col-md-3 col-lg-3\">\n",
      "          <article class=\"product_pod\">\n",
      "           <div class=\"image_container\">\n",
      "            <a href=\"the-dirty-little-secrets-of-getting-your-dream-job_994/index.html\">\n",
      "             <img alt=\"The Dirty Little Secrets of Getting Your Dream Job\" class=\"thumbnail\" src=\"../media/cache/92/27/92274a95b7c251fea59a2b8a78275ab4.jpg\"/>\n",
      "            </a>\n",
      "           </div>\n",
      "           <p class=\"star-rating Four\">\n",
      "            <i class=\"icon-star\">\n",
      "            </i>\n",
      "            <i class=\"icon-star\">\n",
      "            </i>\n",
      "            <i class=\"icon-star\">\n",
      "            </i>\n",
      "            <i class=\"icon-star\">\n",
      "            </i>\n",
      "            <i class=\"icon-star\">\n",
      "            </i>\n",
      "           </p>\n",
      "           <h3>\n",
      "            <a href=\"the-dirty-little-secrets-of-getting-your-dream-job_994/index.html\" title=\"The Dirty Little Secrets of Getting Your Dream Job\">\n",
      "             The Dirty Little Secrets ...\n",
      "            </a>\n",
      "           </h3>\n",
      "           <div class=\"product_price\">\n",
      "            <p class=\"price_color\">\n",
      "             Â£33.34\n",
      "            </p>\n",
      "            <p class=\"instock availability\">\n",
      "             <i class=\"icon-ok\">\n",
      "             </i>\n",
      "             In stock\n",
      "            </p>\n",
      "            <form>\n",
      "             <button class=\"btn btn-primary btn-block\" data-loading-text=\"Adding...\" type=\"submit\">\n",
      "              Add to basket\n",
      "             </button>\n",
      "            </form>\n",
      "           </div>\n",
      "          </article>\n",
      "         </li>\n",
      "         <li class=\"col-xs-6 col-sm-4 col-md-3 col-lg-3\">\n",
      "          <article class=\"product_pod\">\n",
      "           <div class=\"image_container\">\n",
      "            <a href=\"the-coming-woman-a-novel-based-on-the-life-of-the-infamous-feminist-victoria-woodhull_993/index.html\">\n",
      "             <img alt=\"The Coming Woman: A Novel Based on the Life of the Infamous Feminist, Victoria Woodhull\" class=\"thumbnail\" src=\"../media/cache/3d/54/3d54940e57e662c4dd1f3ff00c78cc64.jpg\"/>\n",
      "            </a>\n",
      "           </div>\n",
      "           <p class=\"star-rating Three\">\n",
      "            <i class=\"icon-star\">\n",
      "            </i>\n",
      "            <i class=\"icon-star\">\n",
      "            </i>\n",
      "            <i class=\"icon-star\">\n",
      "            </i>\n",
      "            <i class=\"icon-star\">\n",
      "            </i>\n",
      "            <i class=\"icon-star\">\n",
      "            </i>\n",
      "           </p>\n",
      "           <h3>\n",
      "            <a href=\"the-coming-woman-a-novel-based-on-the-life-of-the-infamous-feminist-victoria-woodhull_993/index.html\" title=\"The Coming Woman: A Novel Based on the Life of the Infamous Feminist, Victoria Woodhull\">\n",
      "             The Coming Woman: A ...\n",
      "            </a>\n",
      "           </h3>\n",
      "           <div class=\"product_price\">\n",
      "            <p class=\"price_color\">\n",
      "             Â£17.93\n",
      "            </p>\n",
      "            <p class=\"instock availability\">\n",
      "             <i class=\"icon-ok\">\n",
      "             </i>\n",
      "             In stock\n",
      "            </p>\n",
      "            <form>\n",
      "             <button class=\"btn btn-primary btn-block\" data-loading-text=\"Adding...\" type=\"submit\">\n",
      "              Add to basket\n",
      "             </button>\n",
      "            </form>\n",
      "           </div>\n",
      "          </article>\n",
      "         </li>\n",
      "         <li class=\"col-xs-6 col-sm-4 col-md-3 col-lg-3\">\n",
      "          <article class=\"product_pod\">\n",
      "           <div class=\"image_container\">\n",
      "            <a href=\"the-boys-in-the-boat-nine-americans-and-their-epic-quest-for-gold-at-the-1936-berlin-olympics_992/index.html\">\n",
      "             <img alt=\"The Boys in the Boat: Nine Americans and Their Epic Quest for Gold at the 1936 Berlin Olympics\" class=\"thumbnail\" src=\"../media/cache/66/88/66883b91f6804b2323c8369331cb7dd1.jpg\"/>\n",
      "            </a>\n",
      "           </div>\n",
      "           <p class=\"star-rating Four\">\n",
      "            <i class=\"icon-star\">\n",
      "            </i>\n",
      "            <i class=\"icon-star\">\n",
      "            </i>\n",
      "            <i class=\"icon-star\">\n",
      "            </i>\n",
      "            <i class=\"icon-star\">\n",
      "            </i>\n",
      "            <i class=\"icon-star\">\n",
      "            </i>\n",
      "           </p>\n",
      "           <h3>\n",
      "            <a href=\"the-boys-in-the-boat-nine-americans-and-their-epic-quest-for-gold-at-the-1936-berlin-olympics_992/index.html\" title=\"The Boys in the Boat: Nine Americans and Their Epic Quest for Gold at the 1936 Berlin Olympics\">\n",
      "             The Boys in the ...\n",
      "            </a>\n",
      "           </h3>\n",
      "           <div class=\"product_price\">\n",
      "            <p class=\"price_color\">\n",
      "             Â£22.60\n",
      "            </p>\n",
      "            <p class=\"instock availability\">\n",
      "             <i class=\"icon-ok\">\n",
      "             </i>\n",
      "             In stock\n",
      "            </p>\n",
      "            <form>\n",
      "             <button class=\"btn btn-primary btn-block\" data-loading-text=\"Adding...\" type=\"submit\">\n",
      "              Add to basket\n",
      "             </button>\n",
      "            </form>\n",
      "           </div>\n",
      "          </article>\n",
      "         </li>\n",
      "         <li class=\"col-xs-6 col-sm-4 col-md-3 col-lg-3\">\n",
      "          <article class=\"product_pod\">\n",
      "           <div class=\"image_container\">\n",
      "            <a href=\"the-black-maria_991/index.html\">\n",
      "             <img alt=\"The Black Maria\" class=\"thumbnail\" src=\"../media/cache/58/46/5846057e28022268153beff6d352b06c.jpg\"/>\n",
      "            </a>\n",
      "           </div>\n",
      "           <p class=\"star-rating One\">\n",
      "            <i class=\"icon-star\">\n",
      "            </i>\n",
      "            <i class=\"icon-star\">\n",
      "            </i>\n",
      "            <i class=\"icon-star\">\n",
      "            </i>\n",
      "            <i class=\"icon-star\">\n",
      "            </i>\n",
      "            <i class=\"icon-star\">\n",
      "            </i>\n",
      "           </p>\n",
      "           <h3>\n",
      "            <a href=\"the-black-maria_991/index.html\" title=\"The Black Maria\">\n",
      "             The Black Maria\n",
      "            </a>\n",
      "           </h3>\n",
      "           <div class=\"product_price\">\n",
      "            <p class=\"price_color\">\n",
      "             Â£52.15\n",
      "            </p>\n",
      "            <p class=\"instock availability\">\n",
      "             <i class=\"icon-ok\">\n",
      "             </i>\n",
      "             In stock\n",
      "            </p>\n",
      "            <form>\n",
      "             <button class=\"btn btn-primary btn-block\" data-loading-text=\"Adding...\" type=\"submit\">\n",
      "              Add to basket\n",
      "             </button>\n",
      "            </form>\n",
      "           </div>\n",
      "          </article>\n",
      "         </li>\n",
      "         <li class=\"col-xs-6 col-sm-4 col-md-3 col-lg-3\">\n",
      "          <article class=\"product_pod\">\n",
      "           <div class=\"image_container\">\n",
      "            <a href=\"starving-hearts-triangular-trade-trilogy-1_990/index.html\">\n",
      "             <img alt=\"Starving Hearts (Triangular Trade Trilogy, #1)\" class=\"thumbnail\" src=\"../media/cache/be/f4/bef44da28c98f905a3ebec0b87be8530.jpg\"/>\n",
      "            </a>\n",
      "           </div>\n",
      "           <p class=\"star-rating Two\">\n",
      "            <i class=\"icon-star\">\n",
      "            </i>\n",
      "            <i class=\"icon-star\">\n",
      "            </i>\n",
      "            <i class=\"icon-star\">\n",
      "            </i>\n",
      "            <i class=\"icon-star\">\n",
      "            </i>\n",
      "            <i class=\"icon-star\">\n",
      "            </i>\n",
      "           </p>\n",
      "           <h3>\n",
      "            <a href=\"starving-hearts-triangular-trade-trilogy-1_990/index.html\" title=\"Starving Hearts (Triangular Trade Trilogy, #1)\">\n",
      "             Starving Hearts (Triangular Trade ...\n",
      "            </a>\n",
      "           </h3>\n",
      "           <div class=\"product_price\">\n",
      "            <p class=\"price_color\">\n",
      "             Â£13.99\n",
      "            </p>\n",
      "            <p class=\"instock availability\">\n",
      "             <i class=\"icon-ok\">\n",
      "             </i>\n",
      "             In stock\n",
      "            </p>\n",
      "            <form>\n",
      "             <button class=\"btn btn-primary btn-block\" data-loading-text=\"Adding...\" type=\"submit\">\n",
      "              Add to basket\n",
      "             </button>\n",
      "            </form>\n",
      "           </div>\n",
      "          </article>\n",
      "         </li>\n",
      "         <li class=\"col-xs-6 col-sm-4 col-md-3 col-lg-3\">\n",
      "          <article class=\"product_pod\">\n",
      "           <div class=\"image_container\">\n",
      "            <a href=\"shakespeares-sonnets_989/index.html\">\n",
      "             <img alt=\"Shakespeare's Sonnets\" class=\"thumbnail\" src=\"../media/cache/10/48/1048f63d3b5061cd2f424d20b3f9b666.jpg\"/>\n",
      "            </a>\n",
      "           </div>\n",
      "           <p class=\"star-rating Four\">\n",
      "            <i class=\"icon-star\">\n",
      "            </i>\n",
      "            <i class=\"icon-star\">\n",
      "            </i>\n",
      "            <i class=\"icon-star\">\n",
      "            </i>\n",
      "            <i class=\"icon-star\">\n",
      "            </i>\n",
      "            <i class=\"icon-star\">\n",
      "            </i>\n",
      "           </p>\n",
      "           <h3>\n",
      "            <a href=\"shakespeares-sonnets_989/index.html\" title=\"Shakespeare's Sonnets\">\n",
      "             Shakespeare's Sonnets\n",
      "            </a>\n",
      "           </h3>\n",
      "           <div class=\"product_price\">\n",
      "            <p class=\"price_color\">\n",
      "             Â£20.66\n",
      "            </p>\n",
      "            <p class=\"instock availability\">\n",
      "             <i class=\"icon-ok\">\n",
      "             </i>\n",
      "             In stock\n",
      "            </p>\n",
      "            <form>\n",
      "             <button class=\"btn btn-primary btn-block\" data-loading-text=\"Adding...\" type=\"submit\">\n",
      "              Add to basket\n",
      "             </button>\n",
      "            </form>\n",
      "           </div>\n",
      "          </article>\n",
      "         </li>\n",
      "         <li class=\"col-xs-6 col-sm-4 col-md-3 col-lg-3\">\n",
      "          <article class=\"product_pod\">\n",
      "           <div class=\"image_container\">\n",
      "            <a href=\"set-me-free_988/index.html\">\n",
      "             <img alt=\"Set Me Free\" class=\"thumbnail\" src=\"../media/cache/5b/88/5b88c52633f53cacf162c15f4f823153.jpg\"/>\n",
      "            </a>\n",
      "           </div>\n",
      "           <p class=\"star-rating Five\">\n",
      "            <i class=\"icon-star\">\n",
      "            </i>\n",
      "            <i class=\"icon-star\">\n",
      "            </i>\n",
      "            <i class=\"icon-star\">\n",
      "            </i>\n",
      "            <i class=\"icon-star\">\n",
      "            </i>\n",
      "            <i class=\"icon-star\">\n",
      "            </i>\n",
      "           </p>\n",
      "           <h3>\n",
      "            <a href=\"set-me-free_988/index.html\" title=\"Set Me Free\">\n",
      "             Set Me Free\n",
      "            </a>\n",
      "           </h3>\n",
      "           <div class=\"product_price\">\n",
      "            <p class=\"price_color\">\n",
      "             Â£17.46\n",
      "            </p>\n",
      "            <p class=\"instock availability\">\n",
      "             <i class=\"icon-ok\">\n",
      "             </i>\n",
      "             In stock\n",
      "            </p>\n",
      "            <form>\n",
      "             <button class=\"btn btn-primary btn-block\" data-loading-text=\"Adding...\" type=\"submit\">\n",
      "              Add to basket\n",
      "             </button>\n",
      "            </form>\n",
      "           </div>\n",
      "          </article>\n",
      "         </li>\n",
      "         <li class=\"col-xs-6 col-sm-4 col-md-3 col-lg-3\">\n",
      "          <article class=\"product_pod\">\n",
      "           <div class=\"image_container\">\n",
      "            <a href=\"scott-pilgrims-precious-little-life-scott-pilgrim-1_987/index.html\">\n",
      "             <img alt=\"Scott Pilgrim's Precious Little Life (Scott Pilgrim #1)\" class=\"thumbnail\" src=\"../media/cache/94/b1/94b1b8b244bce9677c2f29ccc890d4d2.jpg\"/>\n",
      "            </a>\n",
      "           </div>\n",
      "           <p class=\"star-rating Five\">\n",
      "            <i class=\"icon-star\">\n",
      "            </i>\n",
      "            <i class=\"icon-star\">\n",
      "            </i>\n",
      "            <i class=\"icon-star\">\n",
      "            </i>\n",
      "            <i class=\"icon-star\">\n",
      "            </i>\n",
      "            <i class=\"icon-star\">\n",
      "            </i>\n",
      "           </p>\n",
      "           <h3>\n",
      "            <a href=\"scott-pilgrims-precious-little-life-scott-pilgrim-1_987/index.html\" title=\"Scott Pilgrim's Precious Little Life (Scott Pilgrim #1)\">\n",
      "             Scott Pilgrim's Precious Little ...\n",
      "            </a>\n",
      "           </h3>\n",
      "           <div class=\"product_price\">\n",
      "            <p class=\"price_color\">\n",
      "             Â£52.29\n",
      "            </p>\n",
      "            <p class=\"instock availability\">\n",
      "             <i class=\"icon-ok\">\n",
      "             </i>\n",
      "             In stock\n",
      "            </p>\n",
      "            <form>\n",
      "             <button class=\"btn btn-primary btn-block\" data-loading-text=\"Adding...\" type=\"submit\">\n",
      "              Add to basket\n",
      "             </button>\n",
      "            </form>\n",
      "           </div>\n",
      "          </article>\n",
      "         </li>\n",
      "         <li class=\"col-xs-6 col-sm-4 col-md-3 col-lg-3\">\n",
      "          <article class=\"product_pod\">\n",
      "           <div class=\"image_container\">\n",
      "            <a href=\"rip-it-up-and-start-again_986/index.html\">\n",
      "             <img alt=\"Rip it Up and Start Again\" class=\"thumbnail\" src=\"../media/cache/81/c4/81c4a973364e17d01f217e1188253d5e.jpg\"/>\n",
      "            </a>\n",
      "           </div>\n",
      "           <p class=\"star-rating Five\">\n",
      "            <i class=\"icon-star\">\n",
      "            </i>\n",
      "            <i class=\"icon-star\">\n",
      "            </i>\n",
      "            <i class=\"icon-star\">\n",
      "            </i>\n",
      "            <i class=\"icon-star\">\n",
      "            </i>\n",
      "            <i class=\"icon-star\">\n",
      "            </i>\n",
      "           </p>\n",
      "           <h3>\n",
      "            <a href=\"rip-it-up-and-start-again_986/index.html\" title=\"Rip it Up and Start Again\">\n",
      "             Rip it Up and ...\n",
      "            </a>\n",
      "           </h3>\n",
      "           <div class=\"product_price\">\n",
      "            <p class=\"price_color\">\n",
      "             Â£35.02\n",
      "            </p>\n",
      "            <p class=\"instock availability\">\n",
      "             <i class=\"icon-ok\">\n",
      "             </i>\n",
      "             In stock\n",
      "            </p>\n",
      "            <form>\n",
      "             <button class=\"btn btn-primary btn-block\" data-loading-text=\"Adding...\" type=\"submit\">\n",
      "              Add to basket\n",
      "             </button>\n",
      "            </form>\n",
      "           </div>\n",
      "          </article>\n",
      "         </li>\n",
      "         <li class=\"col-xs-6 col-sm-4 col-md-3 col-lg-3\">\n",
      "          <article class=\"product_pod\">\n",
      "           <div class=\"image_container\">\n",
      "            <a href=\"our-band-could-be-your-life-scenes-from-the-american-indie-underground-1981-1991_985/index.html\">\n",
      "             <img alt=\"Our Band Could Be Your Life: Scenes from the American Indie Underground, 1981-1991\" class=\"thumbnail\" src=\"../media/cache/54/60/54607fe8945897cdcced0044103b10b6.jpg\"/>\n",
      "            </a>\n",
      "           </div>\n",
      "           <p class=\"star-rating Three\">\n",
      "            <i class=\"icon-star\">\n",
      "            </i>\n",
      "            <i class=\"icon-star\">\n",
      "            </i>\n",
      "            <i class=\"icon-star\">\n",
      "            </i>\n",
      "            <i class=\"icon-star\">\n",
      "            </i>\n",
      "            <i class=\"icon-star\">\n",
      "            </i>\n",
      "           </p>\n",
      "           <h3>\n",
      "            <a href=\"our-band-could-be-your-life-scenes-from-the-american-indie-underground-1981-1991_985/index.html\" title=\"Our Band Could Be Your Life: Scenes from the American Indie Underground, 1981-1991\">\n",
      "             Our Band Could Be ...\n",
      "            </a>\n",
      "           </h3>\n",
      "           <div class=\"product_price\">\n",
      "            <p class=\"price_color\">\n",
      "             Â£57.25\n",
      "            </p>\n",
      "            <p class=\"instock availability\">\n",
      "             <i class=\"icon-ok\">\n",
      "             </i>\n",
      "             In stock\n",
      "            </p>\n",
      "            <form>\n",
      "             <button class=\"btn btn-primary btn-block\" data-loading-text=\"Adding...\" type=\"submit\">\n",
      "              Add to basket\n",
      "             </button>\n",
      "            </form>\n",
      "           </div>\n",
      "          </article>\n",
      "         </li>\n",
      "         <li class=\"col-xs-6 col-sm-4 col-md-3 col-lg-3\">\n",
      "          <article class=\"product_pod\">\n",
      "           <div class=\"image_container\">\n",
      "            <a href=\"olio_984/index.html\">\n",
      "             <img alt=\"Olio\" class=\"thumbnail\" src=\"../media/cache/55/33/553310a7162dfbc2c6d19a84da0df9e1.jpg\"/>\n",
      "            </a>\n",
      "           </div>\n",
      "           <p class=\"star-rating One\">\n",
      "            <i class=\"icon-star\">\n",
      "            </i>\n",
      "            <i class=\"icon-star\">\n",
      "            </i>\n",
      "            <i class=\"icon-star\">\n",
      "            </i>\n",
      "            <i class=\"icon-star\">\n",
      "            </i>\n",
      "            <i class=\"icon-star\">\n",
      "            </i>\n",
      "           </p>\n",
      "           <h3>\n",
      "            <a href=\"olio_984/index.html\" title=\"Olio\">\n",
      "             Olio\n",
      "            </a>\n",
      "           </h3>\n",
      "           <div class=\"product_price\">\n",
      "            <p class=\"price_color\">\n",
      "             Â£23.88\n",
      "            </p>\n",
      "            <p class=\"instock availability\">\n",
      "             <i class=\"icon-ok\">\n",
      "             </i>\n",
      "             In stock\n",
      "            </p>\n",
      "            <form>\n",
      "             <button class=\"btn btn-primary btn-block\" data-loading-text=\"Adding...\" type=\"submit\">\n",
      "              Add to basket\n",
      "             </button>\n",
      "            </form>\n",
      "           </div>\n",
      "          </article>\n",
      "         </li>\n",
      "         <li class=\"col-xs-6 col-sm-4 col-md-3 col-lg-3\">\n",
      "          <article class=\"product_pod\">\n",
      "           <div class=\"image_container\">\n",
      "            <a href=\"mesaerion-the-best-science-fiction-stories-1800-1849_983/index.html\">\n",
      "             <img alt=\"Mesaerion: The Best Science Fiction Stories 1800-1849\" class=\"thumbnail\" src=\"../media/cache/09/a3/09a3aef48557576e1a85ba7efea8ecb7.jpg\"/>\n",
      "            </a>\n",
      "           </div>\n",
      "           <p class=\"star-rating One\">\n",
      "            <i class=\"icon-star\">\n",
      "            </i>\n",
      "            <i class=\"icon-star\">\n",
      "            </i>\n",
      "            <i class=\"icon-star\">\n",
      "            </i>\n",
      "            <i class=\"icon-star\">\n",
      "            </i>\n",
      "            <i class=\"icon-star\">\n",
      "            </i>\n",
      "           </p>\n",
      "           <h3>\n",
      "            <a href=\"mesaerion-the-best-science-fiction-stories-1800-1849_983/index.html\" title=\"Mesaerion: The Best Science Fiction Stories 1800-1849\">\n",
      "             Mesaerion: The Best Science ...\n",
      "            </a>\n",
      "           </h3>\n",
      "           <div class=\"product_price\">\n",
      "            <p class=\"price_color\">\n",
      "             Â£37.59\n",
      "            </p>\n",
      "            <p class=\"instock availability\">\n",
      "             <i class=\"icon-ok\">\n",
      "             </i>\n",
      "             In stock\n",
      "            </p>\n",
      "            <form>\n",
      "             <button class=\"btn btn-primary btn-block\" data-loading-text=\"Adding...\" type=\"submit\">\n",
      "              Add to basket\n",
      "             </button>\n",
      "            </form>\n",
      "           </div>\n",
      "          </article>\n",
      "         </li>\n",
      "         <li class=\"col-xs-6 col-sm-4 col-md-3 col-lg-3\">\n",
      "          <article class=\"product_pod\">\n",
      "           <div class=\"image_container\">\n",
      "            <a href=\"libertarianism-for-beginners_982/index.html\">\n",
      "             <img alt=\"Libertarianism for Beginners\" class=\"thumbnail\" src=\"../media/cache/0b/bc/0bbcd0a6f4bcd81ccb1049a52736406e.jpg\"/>\n",
      "            </a>\n",
      "           </div>\n",
      "           <p class=\"star-rating Two\">\n",
      "            <i class=\"icon-star\">\n",
      "            </i>\n",
      "            <i class=\"icon-star\">\n",
      "            </i>\n",
      "            <i class=\"icon-star\">\n",
      "            </i>\n",
      "            <i class=\"icon-star\">\n",
      "            </i>\n",
      "            <i class=\"icon-star\">\n",
      "            </i>\n",
      "           </p>\n",
      "           <h3>\n",
      "            <a href=\"libertarianism-for-beginners_982/index.html\" title=\"Libertarianism for Beginners\">\n",
      "             Libertarianism for Beginners\n",
      "            </a>\n",
      "           </h3>\n",
      "           <div class=\"product_price\">\n",
      "            <p class=\"price_color\">\n",
      "             Â£51.33\n",
      "            </p>\n",
      "            <p class=\"instock availability\">\n",
      "             <i class=\"icon-ok\">\n",
      "             </i>\n",
      "             In stock\n",
      "            </p>\n",
      "            <form>\n",
      "             <button class=\"btn btn-primary btn-block\" data-loading-text=\"Adding...\" type=\"submit\">\n",
      "              Add to basket\n",
      "             </button>\n",
      "            </form>\n",
      "           </div>\n",
      "          </article>\n",
      "         </li>\n",
      "         <li class=\"col-xs-6 col-sm-4 col-md-3 col-lg-3\">\n",
      "          <article class=\"product_pod\">\n",
      "           <div class=\"image_container\">\n",
      "            <a href=\"its-only-the-himalayas_981/index.html\">\n",
      "             <img alt=\"It's Only the Himalayas\" class=\"thumbnail\" src=\"../media/cache/27/a5/27a53d0bb95bdd88288eaf66c9230d7e.jpg\"/>\n",
      "            </a>\n",
      "           </div>\n",
      "           <p class=\"star-rating Two\">\n",
      "            <i class=\"icon-star\">\n",
      "            </i>\n",
      "            <i class=\"icon-star\">\n",
      "            </i>\n",
      "            <i class=\"icon-star\">\n",
      "            </i>\n",
      "            <i class=\"icon-star\">\n",
      "            </i>\n",
      "            <i class=\"icon-star\">\n",
      "            </i>\n",
      "           </p>\n",
      "           <h3>\n",
      "            <a href=\"its-only-the-himalayas_981/index.html\" title=\"It's Only the Himalayas\">\n",
      "             It's Only the Himalayas\n",
      "            </a>\n",
      "           </h3>\n",
      "           <div class=\"product_price\">\n",
      "            <p class=\"price_color\">\n",
      "             Â£45.17\n",
      "            </p>\n",
      "            <p class=\"instock availability\">\n",
      "             <i class=\"icon-ok\">\n",
      "             </i>\n",
      "             In stock\n",
      "            </p>\n",
      "            <form>\n",
      "             <button class=\"btn btn-primary btn-block\" data-loading-text=\"Adding...\" type=\"submit\">\n",
      "              Add to basket\n",
      "             </button>\n",
      "            </form>\n",
      "           </div>\n",
      "          </article>\n",
      "         </li>\n",
      "        </ol>\n",
      "        <div>\n",
      "         <ul class=\"pager\">\n",
      "          <li class=\"current\">\n",
      "           Page 1 of 50\n",
      "          </li>\n",
      "          <li class=\"next\">\n",
      "           <a href=\"page-2.html\">\n",
      "            next\n",
      "           </a>\n",
      "          </li>\n",
      "         </ul>\n",
      "        </div>\n",
      "       </div>\n",
      "      </section>\n",
      "     </div>\n",
      "    </div>\n",
      "    <!-- /row -->\n",
      "   </div>\n",
      "   <!-- /page_inner -->\n",
      "  </div>\n",
      "  <!-- /container-fluid -->\n",
      "  <footer class=\"footer container-fluid\">\n",
      "  </footer>\n",
      "  <!-- jQuery -->\n",
      "  <script src=\"http://ajax.googleapis.com/ajax/libs/jquery/1.9.1/jquery.min.js\">\n",
      "  </script>\n",
      "  <script>\n",
      "   window.jQuery || document.write('<script src=\"../static/oscar/js/jquery/jquery-1.9.1.min.js\"><\\/script>')\n",
      "  </script>\n",
      "  <!-- Twitter Bootstrap -->\n",
      "  <script src=\"../static/oscar/js/bootstrap3/bootstrap.min.js\" type=\"text/javascript\">\n",
      "  </script>\n",
      "  <!-- Oscar -->\n",
      "  <script charset=\"utf-8\" src=\"../static/oscar/js/oscar/ui.js\" type=\"text/javascript\">\n",
      "  </script>\n",
      "  <script charset=\"utf-8\" src=\"../static/oscar/js/bootstrap-datetimepicker/bootstrap-datetimepicker.js\" type=\"text/javascript\">\n",
      "  </script>\n",
      "  <script charset=\"utf-8\" src=\"../static/oscar/js/bootstrap-datetimepicker/locales/bootstrap-datetimepicker.all.js\" type=\"text/javascript\">\n",
      "  </script>\n",
      "  <script type=\"text/javascript\">\n",
      "   $(function() {\n",
      "                \n",
      "    \n",
      "    \n",
      "    oscar.init();\n",
      "\n",
      "    oscar.search.init();\n",
      "\n",
      "            });\n",
      "  </script>\n",
      "  <!-- Version: N/A -->\n",
      " </body>\n",
      "</html>\n",
      "\n"
     ]
    }
   ],
   "source": [
    "print(data.prettify())"
   ]
  },
  {
   "cell_type": "code",
   "execution_count": 80,
   "id": "4f86111f",
   "metadata": {
    "scrolled": true
   },
   "outputs": [
    {
     "data": {
      "text/plain": [
       "<title>\n",
       "    All products | Books to Scrape - Sandbox\n",
       "</title>"
      ]
     },
     "execution_count": 80,
     "metadata": {},
     "output_type": "execute_result"
    }
   ],
   "source": [
    "data.title"
   ]
  },
  {
   "cell_type": "code",
   "execution_count": 81,
   "id": "6fb52aa1",
   "metadata": {},
   "outputs": [
    {
     "data": {
      "text/plain": [
       "<a href=\"../index.html\">Books to Scrape</a>"
      ]
     },
     "execution_count": 81,
     "metadata": {},
     "output_type": "execute_result"
    }
   ],
   "source": [
    "data.a"
   ]
  },
  {
   "cell_type": "code",
   "execution_count": 83,
   "id": "95d4934f",
   "metadata": {},
   "outputs": [
    {
     "data": {
      "text/plain": [
       "'A Light in the ...'"
      ]
     },
     "execution_count": 83,
     "metadata": {},
     "output_type": "execute_result"
    }
   ],
   "source": [
    "data.h3.a.string"
   ]
  },
  {
   "cell_type": "code",
   "execution_count": 84,
   "id": "51c48013",
   "metadata": {},
   "outputs": [],
   "source": [
    "l2=data.find(class_='product_pod')"
   ]
  },
  {
   "cell_type": "code",
   "execution_count": 85,
   "id": "4678f113",
   "metadata": {
    "scrolled": true
   },
   "outputs": [
    {
     "data": {
      "text/plain": [
       "<article class=\"product_pod\">\n",
       "<div class=\"image_container\">\n",
       "<a href=\"a-light-in-the-attic_1000/index.html\"><img alt=\"A Light in the Attic\" class=\"thumbnail\" src=\"../media/cache/2c/da/2cdad67c44b002e7ead0cc35693c0e8b.jpg\"/></a>\n",
       "</div>\n",
       "<p class=\"star-rating Three\">\n",
       "<i class=\"icon-star\"></i>\n",
       "<i class=\"icon-star\"></i>\n",
       "<i class=\"icon-star\"></i>\n",
       "<i class=\"icon-star\"></i>\n",
       "<i class=\"icon-star\"></i>\n",
       "</p>\n",
       "<h3><a href=\"a-light-in-the-attic_1000/index.html\" title=\"A Light in the Attic\">A Light in the ...</a></h3>\n",
       "<div class=\"product_price\">\n",
       "<p class=\"price_color\">Â£51.77</p>\n",
       "<p class=\"instock availability\">\n",
       "<i class=\"icon-ok\"></i>\n",
       "    \n",
       "        In stock\n",
       "    \n",
       "</p>\n",
       "<form>\n",
       "<button class=\"btn btn-primary btn-block\" data-loading-text=\"Adding...\" type=\"submit\">Add to basket</button>\n",
       "</form>\n",
       "</div>\n",
       "</article>"
      ]
     },
     "execution_count": 85,
     "metadata": {},
     "output_type": "execute_result"
    }
   ],
   "source": [
    "l2"
   ]
  },
  {
   "cell_type": "code",
   "execution_count": 143,
   "id": "ce0273c1",
   "metadata": {},
   "outputs": [],
   "source": [
    "base_url='https://books.toscrape.com/catalogue/a-light-in-the-attic_1000/index.html'"
   ]
  },
  {
   "cell_type": "code",
   "execution_count": null,
   "id": "dbc3c6f9",
   "metadata": {},
   "outputs": [],
   "source": []
  },
  {
   "cell_type": "code",
   "execution_count": null,
   "id": "00e1d8a6",
   "metadata": {},
   "outputs": [],
   "source": []
  },
  {
   "cell_type": "code",
   "execution_count": 139,
   "id": "45be1c51",
   "metadata": {},
   "outputs": [
    {
     "data": {
      "text/plain": [
       "'a-light-in-the-attic_1000/index.html'"
      ]
     },
     "execution_count": 139,
     "metadata": {},
     "output_type": "execute_result"
    }
   ],
   "source": [
    "l2.a['href']"
   ]
  },
  {
   "cell_type": "code",
   "execution_count": 92,
   "id": "429facef",
   "metadata": {},
   "outputs": [
    {
     "name": "stdout",
     "output_type": "stream",
     "text": [
      "A Light in the ...\n"
     ]
    }
   ],
   "source": [
    "print(l2.h3.string)"
   ]
  },
  {
   "cell_type": "code",
   "execution_count": 120,
   "id": "95840e2b",
   "metadata": {},
   "outputs": [],
   "source": [
    "l3=l2.find(class_='price_color')"
   ]
  },
  {
   "cell_type": "code",
   "execution_count": 122,
   "id": "84f6fc22",
   "metadata": {},
   "outputs": [
    {
     "data": {
      "text/plain": [
       "'Â£51.77'"
      ]
     },
     "execution_count": 122,
     "metadata": {},
     "output_type": "execute_result"
    }
   ],
   "source": [
    "l3.string"
   ]
  },
  {
   "cell_type": "code",
   "execution_count": 95,
   "id": "031e3420",
   "metadata": {},
   "outputs": [
    {
     "data": {
      "text/plain": [
       "'Â£51.77'"
      ]
     },
     "execution_count": 95,
     "metadata": {},
     "output_type": "execute_result"
    }
   ],
   "source": [
    "l3.p.string"
   ]
  },
  {
   "cell_type": "code",
   "execution_count": 126,
   "id": "a57a1b85",
   "metadata": {},
   "outputs": [],
   "source": [
    "l4=l2.find(class_='instock availability')"
   ]
  },
  {
   "cell_type": "code",
   "execution_count": 127,
   "id": "c667fb37",
   "metadata": {},
   "outputs": [
    {
     "name": "stdout",
     "output_type": "stream",
     "text": [
      "<p class=\"instock availability\">\n",
      "<i class=\"icon-ok\"></i>\n",
      "    \n",
      "        In stock\n",
      "    \n",
      "</p>\n"
     ]
    }
   ],
   "source": [
    "print(l4)"
   ]
  },
  {
   "cell_type": "code",
   "execution_count": 138,
   "id": "0addea8f",
   "metadata": {},
   "outputs": [
    {
     "name": "stdout",
     "output_type": "stream",
     "text": [
      "\n",
      "\n",
      "    \n",
      "        In stock\n",
      "    \n",
      "\n"
     ]
    }
   ],
   "source": [
    "print(l4.text)"
   ]
  },
  {
   "cell_type": "code",
   "execution_count": null,
   "id": "71cfb15e",
   "metadata": {},
   "outputs": [],
   "source": [
    "https://books.toscrape.com/a-light-in-the-attic_1000/index.html\n"
   ]
  },
  {
   "cell_type": "code",
   "execution_count": null,
   "id": "69c24dcb",
   "metadata": {},
   "outputs": [],
   "source": [
    "https://books.toscrape.com/index.html\n",
    "https://books.toscrape.com/catalogue/a-light-in-the-attic_1000/index.html\n",
    "https://books.toscrape.com/catalogue/tipping-the-velvet_999/index.html"
   ]
  },
  {
   "cell_type": "code",
   "execution_count": 145,
   "id": "50477cf1",
   "metadata": {},
   "outputs": [],
   "source": [
    "response=requests.get('https://books.toscrape.com/index.html')"
   ]
  },
  {
   "cell_type": "code",
   "execution_count": 147,
   "id": "2c20ccf5",
   "metadata": {},
   "outputs": [],
   "source": [
    "data=response.text"
   ]
  },
  {
   "cell_type": "code",
   "execution_count": 148,
   "id": "417ecb56",
   "metadata": {},
   "outputs": [],
   "source": [
    "data=BeautifulSoup(data,'html.parser')"
   ]
  },
  {
   "cell_type": "code",
   "execution_count": 160,
   "id": "64b2e393",
   "metadata": {},
   "outputs": [],
   "source": [
    "base_url='https://books.toscrape.com/'"
   ]
  },
  {
   "cell_type": "code",
   "execution_count": 161,
   "id": "113c8eb2",
   "metadata": {},
   "outputs": [],
   "source": [
    "l2=data.find_all(class_='product_pod')"
   ]
  },
  {
   "cell_type": "code",
   "execution_count": 165,
   "id": "53443e24",
   "metadata": {},
   "outputs": [
    {
     "data": {
      "text/plain": [
       "20"
      ]
     },
     "execution_count": 165,
     "metadata": {},
     "output_type": "execute_result"
    }
   ],
   "source": [
    "len(l2)"
   ]
  },
  {
   "cell_type": "code",
   "execution_count": 162,
   "id": "fe902e52",
   "metadata": {},
   "outputs": [],
   "source": [
    "all_links=[]\n",
    "for i in l2:\n",
    "    all_links.append(base_url+i.a['href'])"
   ]
  },
  {
   "cell_type": "code",
   "execution_count": 163,
   "id": "aba24819",
   "metadata": {},
   "outputs": [
    {
     "data": {
      "text/plain": [
       "['https://books.toscrape.com/catalogue/a-light-in-the-attic_1000/index.html',\n",
       " 'https://books.toscrape.com/catalogue/tipping-the-velvet_999/index.html',\n",
       " 'https://books.toscrape.com/catalogue/soumission_998/index.html',\n",
       " 'https://books.toscrape.com/catalogue/sharp-objects_997/index.html',\n",
       " 'https://books.toscrape.com/catalogue/sapiens-a-brief-history-of-humankind_996/index.html',\n",
       " 'https://books.toscrape.com/catalogue/the-requiem-red_995/index.html',\n",
       " 'https://books.toscrape.com/catalogue/the-dirty-little-secrets-of-getting-your-dream-job_994/index.html',\n",
       " 'https://books.toscrape.com/catalogue/the-coming-woman-a-novel-based-on-the-life-of-the-infamous-feminist-victoria-woodhull_993/index.html',\n",
       " 'https://books.toscrape.com/catalogue/the-boys-in-the-boat-nine-americans-and-their-epic-quest-for-gold-at-the-1936-berlin-olympics_992/index.html',\n",
       " 'https://books.toscrape.com/catalogue/the-black-maria_991/index.html',\n",
       " 'https://books.toscrape.com/catalogue/starving-hearts-triangular-trade-trilogy-1_990/index.html',\n",
       " 'https://books.toscrape.com/catalogue/shakespeares-sonnets_989/index.html',\n",
       " 'https://books.toscrape.com/catalogue/set-me-free_988/index.html',\n",
       " 'https://books.toscrape.com/catalogue/scott-pilgrims-precious-little-life-scott-pilgrim-1_987/index.html',\n",
       " 'https://books.toscrape.com/catalogue/rip-it-up-and-start-again_986/index.html',\n",
       " 'https://books.toscrape.com/catalogue/our-band-could-be-your-life-scenes-from-the-american-indie-underground-1981-1991_985/index.html',\n",
       " 'https://books.toscrape.com/catalogue/olio_984/index.html',\n",
       " 'https://books.toscrape.com/catalogue/mesaerion-the-best-science-fiction-stories-1800-1849_983/index.html',\n",
       " 'https://books.toscrape.com/catalogue/libertarianism-for-beginners_982/index.html',\n",
       " 'https://books.toscrape.com/catalogue/its-only-the-himalayas_981/index.html']"
      ]
     },
     "execution_count": 163,
     "metadata": {},
     "output_type": "execute_result"
    }
   ],
   "source": [
    "all_links"
   ]
  },
  {
   "cell_type": "code",
   "execution_count": 184,
   "id": "456365d2",
   "metadata": {},
   "outputs": [],
   "source": [
    "title=[]\n",
    "price=[]\n",
    "stock_vailablity=[]"
   ]
  },
  {
   "cell_type": "code",
   "execution_count": 166,
   "id": "163d38aa",
   "metadata": {},
   "outputs": [],
   "source": [
    "respponse=requests.get('https://books.toscrape.com/catalogue/a-light-in-the-attic_1000/index.html')"
   ]
  },
  {
   "cell_type": "code",
   "execution_count": 167,
   "id": "b12e3d10",
   "metadata": {},
   "outputs": [],
   "source": [
    "data=respponse.text"
   ]
  },
  {
   "cell_type": "code",
   "execution_count": 168,
   "id": "c72dcfc2",
   "metadata": {},
   "outputs": [],
   "source": [
    "data=BeautifulSoup(data,'html.parser')"
   ]
  },
  {
   "cell_type": "code",
   "execution_count": 186,
   "id": "277b13a3",
   "metadata": {},
   "outputs": [],
   "source": [
    "l1=data.find(class_='col-sm-6 product_main')"
   ]
  },
  {
   "cell_type": "code",
   "execution_count": 188,
   "id": "24f66827",
   "metadata": {},
   "outputs": [
    {
     "data": {
      "text/plain": [
       "'A Light in the Attic'"
      ]
     },
     "execution_count": 188,
     "metadata": {},
     "output_type": "execute_result"
    }
   ],
   "source": [
    "l1.h1.string"
   ]
  },
  {
   "cell_type": "code",
   "execution_count": 176,
   "id": "b9de55f1",
   "metadata": {},
   "outputs": [],
   "source": [
    "l2=l1.find_all('p')"
   ]
  },
  {
   "cell_type": "code",
   "execution_count": 178,
   "id": "759a0c01",
   "metadata": {},
   "outputs": [
    {
     "data": {
      "text/plain": [
       "'Â£51.77'"
      ]
     },
     "execution_count": 178,
     "metadata": {},
     "output_type": "execute_result"
    }
   ],
   "source": [
    "l2\n",
    "l2[0].string"
   ]
  },
  {
   "cell_type": "code",
   "execution_count": 183,
   "id": "68d6cfe2",
   "metadata": {},
   "outputs": [
    {
     "data": {
      "text/plain": [
       "'In stock (22 available)'"
      ]
     },
     "execution_count": 183,
     "metadata": {},
     "output_type": "execute_result"
    }
   ],
   "source": [
    "list(l2[1].stripped_strings)[0]"
   ]
  },
  {
   "cell_type": "code",
   "execution_count": 189,
   "id": "79c6f1d5",
   "metadata": {},
   "outputs": [],
   "source": [
    "for i in all_links:\n",
    "    respponse=requests.get(i)\n",
    "    data=respponse.text\n",
    "    data=BeautifulSoup(data,'html.parser')\n",
    "    l1=data.find(class_='col-sm-6 product_main')\n",
    "    title.append(l1.h1.string)\n",
    "    l2=l1.find_all('p')\n",
    "    price.append(l2[0].string)\n",
    "    stock_vailablity.append(list(l2[1].stripped_strings)[0])"
   ]
  },
  {
   "cell_type": "code",
   "execution_count": 190,
   "id": "cbe1858a",
   "metadata": {},
   "outputs": [
    {
     "data": {
      "text/plain": [
       "['A Light in the Attic',\n",
       " 'Tipping the Velvet',\n",
       " 'Soumission',\n",
       " 'Sharp Objects',\n",
       " 'Sapiens: A Brief History of Humankind',\n",
       " 'The Requiem Red',\n",
       " 'The Dirty Little Secrets of Getting Your Dream Job',\n",
       " 'The Coming Woman: A Novel Based on the Life of the Infamous Feminist, Victoria Woodhull',\n",
       " 'The Boys in the Boat: Nine Americans and Their Epic Quest for Gold at the 1936 Berlin Olympics',\n",
       " 'The Black Maria',\n",
       " 'Starving Hearts (Triangular Trade Trilogy, #1)',\n",
       " \"Shakespeare's Sonnets\",\n",
       " 'Set Me Free',\n",
       " \"Scott Pilgrim's Precious Little Life (Scott Pilgrim #1)\",\n",
       " 'Rip it Up and Start Again',\n",
       " 'Our Band Could Be Your Life: Scenes from the American Indie Underground, 1981-1991',\n",
       " 'Olio',\n",
       " 'Mesaerion: The Best Science Fiction Stories 1800-1849',\n",
       " 'Libertarianism for Beginners',\n",
       " \"It's Only the Himalayas\"]"
      ]
     },
     "execution_count": 190,
     "metadata": {},
     "output_type": "execute_result"
    }
   ],
   "source": [
    "title"
   ]
  },
  {
   "cell_type": "code",
   "execution_count": 191,
   "id": "2f5f4a60",
   "metadata": {},
   "outputs": [
    {
     "data": {
      "text/plain": [
       "['Â£51.77',\n",
       " 'Â£53.74',\n",
       " 'Â£50.10',\n",
       " 'Â£47.82',\n",
       " 'Â£54.23',\n",
       " 'Â£22.65',\n",
       " 'Â£33.34',\n",
       " 'Â£17.93',\n",
       " 'Â£22.60',\n",
       " 'Â£52.15',\n",
       " 'Â£13.99',\n",
       " 'Â£20.66',\n",
       " 'Â£17.46',\n",
       " 'Â£52.29',\n",
       " 'Â£35.02',\n",
       " 'Â£57.25',\n",
       " 'Â£23.88',\n",
       " 'Â£37.59',\n",
       " 'Â£51.33',\n",
       " 'Â£45.17']"
      ]
     },
     "execution_count": 191,
     "metadata": {},
     "output_type": "execute_result"
    }
   ],
   "source": [
    "price"
   ]
  },
  {
   "cell_type": "code",
   "execution_count": 192,
   "id": "7d269873",
   "metadata": {},
   "outputs": [
    {
     "data": {
      "text/plain": [
       "['In stock (22 available)',\n",
       " 'In stock (20 available)',\n",
       " 'In stock (20 available)',\n",
       " 'In stock (20 available)',\n",
       " 'In stock (20 available)',\n",
       " 'In stock (19 available)',\n",
       " 'In stock (19 available)',\n",
       " 'In stock (19 available)',\n",
       " 'In stock (19 available)',\n",
       " 'In stock (19 available)',\n",
       " 'In stock (19 available)',\n",
       " 'In stock (19 available)',\n",
       " 'In stock (19 available)',\n",
       " 'In stock (19 available)',\n",
       " 'In stock (19 available)',\n",
       " 'In stock (19 available)',\n",
       " 'In stock (19 available)',\n",
       " 'In stock (19 available)',\n",
       " 'In stock (19 available)',\n",
       " 'In stock (19 available)']"
      ]
     },
     "execution_count": 192,
     "metadata": {},
     "output_type": "execute_result"
    }
   ],
   "source": [
    "stock_vailablity"
   ]
  }
 ],
 "metadata": {
  "kernelspec": {
   "display_name": "Python 3 (ipykernel)",
   "language": "python",
   "name": "python3"
  },
  "language_info": {
   "codemirror_mode": {
    "name": "ipython",
    "version": 3
   },
   "file_extension": ".py",
   "mimetype": "text/x-python",
   "name": "python",
   "nbconvert_exporter": "python",
   "pygments_lexer": "ipython3",
   "version": "3.11.5"
  }
 },
 "nbformat": 4,
 "nbformat_minor": 5
}
